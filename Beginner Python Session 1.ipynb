{
 "cells": [
  {
   "cell_type": "code",
   "execution_count": null,
   "id": "741c28d3",
   "metadata": {},
   "outputs": [],
   "source": [
    "from IPython.display import display, HTML\n",
    "display(HTML(\"<style>.container { width:98% !important; }</style>\"))"
   ]
  },
  {
   "cell_type": "markdown",
   "id": "1ba935b2-fe71-46e1-9193-e8b041b6c16e",
   "metadata": {},
   "source": [
    "\n",
    "## Basics of Python\n",
    "\n",
    "*Author - **Himanshu Gahlot***\n",
    "\n",
    "Today's agenda\n",
    "- Understanding IDE\n",
    "- Basics about other environments\n",
    "- Syntax of Python\n",
    "- Variables, data types in Python\n",
    "- Data structures in Python"
   ]
  },
  {
   "cell_type": "code",
   "execution_count": null,
   "id": "9b29ca59",
   "metadata": {},
   "outputs": [],
   "source": [
    "# This is coding block"
   ]
  },
  {
   "cell_type": "markdown",
   "id": "335ab000-2b42-4a36-b4f6-742e7d391d53",
   "metadata": {},
   "source": [
    "This is markdown block"
   ]
  },
  {
   "cell_type": "code",
   "execution_count": null,
   "id": "ff3ba646-6226-4829-91a3-f048aa33bf25",
   "metadata": {},
   "outputs": [],
   "source": [
    "# Command mode"
   ]
  },
  {
   "cell_type": "code",
   "execution_count": null,
   "id": "45a56be5-32a6-4789-b005-6f3c6b55f60a",
   "metadata": {},
   "outputs": [],
   "source": [
    "7"
   ]
  },
  {
   "cell_type": "markdown",
   "id": "3d1c06a1-b0ae-4812-9f2a-28def059f5dc",
   "metadata": {},
   "source": [
    "#### Lets learn Python"
   ]
  },
  {
   "cell_type": "markdown",
   "id": "aa18cf00-9ed6-41bb-a186-de52f374104e",
   "metadata": {},
   "source": [
    "*Whats this cell is?* <br>\n",
    "*Why do we need these cells*"
   ]
  },
  {
   "cell_type": "code",
   "execution_count": null,
   "id": "0c9c7234-a6af-4ae0-b555-6e9ad92802a0",
   "metadata": {},
   "outputs": [],
   "source": [
    "## Write any number in this\n",
    "5"
   ]
  },
  {
   "cell_type": "markdown",
   "id": "5b75caa8-0e26-4d54-94bc-bbe61f01a4b9",
   "metadata": {},
   "source": [
    "*What if you write your name?*"
   ]
  },
  {
   "cell_type": "code",
   "execution_count": null,
   "id": "77fad829-7038-49d8-b29e-eeb4b2bb1e12",
   "metadata": {},
   "outputs": [],
   "source": [
    "## Type your name and see what it shows to you\n",
    "himanshu"
   ]
  },
  {
   "cell_type": "markdown",
   "id": "9046868d-6e4c-4252-acc2-84d728c850f0",
   "metadata": {},
   "source": [
    "*That's bad !!!!!!!!!!!!!!*"
   ]
  },
  {
   "cell_type": "code",
   "execution_count": null,
   "id": "093f88a9-9dac-42d3-8ebd-6b490555ef63",
   "metadata": {},
   "outputs": [],
   "source": [
    "## First lesson\n",
    "#    String and number\n"
   ]
  },
  {
   "cell_type": "markdown",
   "id": "8f179c60-793f-4f3a-ac85-3795556c4d92",
   "metadata": {},
   "source": [
    "**We will come this later**<br>\n",
    "*Lets see what are numbers and how we play with numbers*<br>\n",
    "_**DS is all about number games**_"
   ]
  },
  {
   "cell_type": "markdown",
   "id": "ac6f96ec-bc2c-4c1d-92ed-f70f1c9ed1e9",
   "metadata": {},
   "source": [
    "Add 2 numbers"
   ]
  },
  {
   "cell_type": "code",
   "execution_count": null,
   "id": "6ee4b8c6-d74e-4b33-b25c-ef6b347fc3f5",
   "metadata": {},
   "outputs": [],
   "source": [
    "5+2"
   ]
  },
  {
   "cell_type": "markdown",
   "id": "e7abae91-76d8-4fbc-80e0-3e27405d3c19",
   "metadata": {},
   "source": [
    "Subtract 2 numbers"
   ]
  },
  {
   "cell_type": "code",
   "execution_count": null,
   "id": "a2421a98-1ffe-4882-bc0c-6945696c719c",
   "metadata": {},
   "outputs": [],
   "source": [
    "4-5"
   ]
  },
  {
   "cell_type": "markdown",
   "id": "2ddd608f-5ed6-4636-9c4b-19ced44a3746",
   "metadata": {},
   "source": [
    "Multiply 2 numbers"
   ]
  },
  {
   "cell_type": "code",
   "execution_count": null,
   "id": "d028fdf0",
   "metadata": {},
   "outputs": [],
   "source": [
    "4*5"
   ]
  },
  {
   "cell_type": "markdown",
   "id": "8178fe59-48bc-41f8-84ac-46eda8baf1d1",
   "metadata": {},
   "source": [
    "Divide any 2 numbers"
   ]
  },
  {
   "cell_type": "code",
   "execution_count": null,
   "id": "47625a39-be52-45e1-9704-33d00e2e0754",
   "metadata": {},
   "outputs": [],
   "source": [
    "5/3"
   ]
  },
  {
   "cell_type": "markdown",
   "id": "eecd87f4-44b3-4dc9-88ee-1c11ff7a6644",
   "metadata": {},
   "source": [
    "What happens if you divide with 0?"
   ]
  },
  {
   "cell_type": "code",
   "execution_count": null,
   "id": "84067ba8-2a2d-4fb8-9ef5-41e2a81f2784",
   "metadata": {},
   "outputs": [],
   "source": [
    "5/0"
   ]
  },
  {
   "cell_type": "markdown",
   "id": "8a27f914-2ea8-4e22-96cd-6996a538220d",
   "metadata": {},
   "source": [
    "How to get the remainder?"
   ]
  },
  {
   "cell_type": "code",
   "execution_count": null,
   "id": "7de8cac9-f21f-48be-a881-5364d2cdb738",
   "metadata": {},
   "outputs": [],
   "source": [
    "75%9"
   ]
  },
  {
   "cell_type": "code",
   "execution_count": null,
   "id": "0d5e1600",
   "metadata": {},
   "outputs": [],
   "source": [
    "75/9"
   ]
  },
  {
   "cell_type": "markdown",
   "id": "e5ce8a54-7a7a-4923-9551-e86d95cffddd",
   "metadata": {},
   "source": [
    "Is your number an odd or even number?"
   ]
  },
  {
   "cell_type": "code",
   "execution_count": null,
   "id": "c175d16e-a3ee-4d7c-9d7e-dd789e5c9250",
   "metadata": {},
   "outputs": [],
   "source": [
    "128%2"
   ]
  },
  {
   "cell_type": "markdown",
   "id": "585ce7b2-836b-442a-8853-9e560989c98c",
   "metadata": {},
   "source": [
    "Square of any number"
   ]
  },
  {
   "cell_type": "code",
   "execution_count": null,
   "id": "78f752a5-8e59-4958-a550-014d00c53227",
   "metadata": {},
   "outputs": [],
   "source": [
    "5*5*5"
   ]
  },
  {
   "cell_type": "markdown",
   "id": "ffba813a-78c7-4380-95b2-638d4675589e",
   "metadata": {},
   "source": [
    "Raise to power of _**n**_?"
   ]
  },
  {
   "cell_type": "code",
   "execution_count": null,
   "id": "830be092-5ad4-4a01-9bc0-eb9ca53da04d",
   "metadata": {},
   "outputs": [],
   "source": [
    "3**2 "
   ]
  },
  {
   "cell_type": "code",
   "execution_count": null,
   "id": "a5544407",
   "metadata": {},
   "outputs": [],
   "source": [
    "4**2"
   ]
  },
  {
   "cell_type": "code",
   "execution_count": null,
   "id": "4864d913",
   "metadata": {},
   "outputs": [],
   "source": [
    "16+9"
   ]
  },
  {
   "cell_type": "markdown",
   "id": "f18a3d2a",
   "metadata": {},
   "source": [
    "$$ 5^3 $$"
   ]
  },
  {
   "cell_type": "markdown",
   "id": "3022543e-6ef6-417e-bb84-0f9815fbd95d",
   "metadata": {},
   "source": [
    "## Why do we need Python any simple calculator can do it?\n",
    "\n",
    "<br><br>\n",
    "Python - \"***WAIT!!!!!!!!!!!!!!!!*** I am not even started!\""
   ]
  },
  {
   "cell_type": "markdown",
   "id": "c9974b10-7123-4730-ae7f-417708a724c5",
   "metadata": {},
   "source": [
    "lets solve this <b> H<sup>2</sup> = P<sup>2</sup> + B<sup>2</sup> </b>"
   ]
  },
  {
   "cell_type": "code",
   "execution_count": null,
   "id": "0071c1d0-8b29-42d1-a68e-7d48ba7bc94e",
   "metadata": {},
   "outputs": [],
   "source": [
    "## What is your P?\n",
    "3"
   ]
  },
  {
   "cell_type": "code",
   "execution_count": null,
   "id": "015cd4cf-2fae-4dab-b4d6-783b5a19f174",
   "metadata": {},
   "outputs": [],
   "source": [
    "## What is you B?\n",
    "4"
   ]
  },
  {
   "cell_type": "markdown",
   "id": "9f32b57f-974a-4947-9676-e02ada65715c",
   "metadata": {},
   "source": [
    "Lets say your _p_ is your **P** and _b_ is your **b**"
   ]
  },
  {
   "cell_type": "code",
   "execution_count": null,
   "id": "6f0faac8-961c-4f7a-978a-1e8a8d6ac1ed",
   "metadata": {},
   "outputs": [],
   "source": [
    "p = 3\n",
    "b = 4"
   ]
  },
  {
   "cell_type": "markdown",
   "id": "a99439a7-4db6-409a-8fe5-66d8df489aee",
   "metadata": {},
   "source": [
    "Now see the magic here is your **H**"
   ]
  },
  {
   "cell_type": "code",
   "execution_count": null,
   "id": "41a715f3-dddf-4da6-ba42-b3fb0223e4c2",
   "metadata": {},
   "outputs": [],
   "source": [
    "H"
   ]
  },
  {
   "cell_type": "markdown",
   "id": "8e861c57-1c24-489c-936a-1908e276b0eb",
   "metadata": {},
   "source": [
    " *That's double bad !!!!!!!!!!!!!!*"
   ]
  },
  {
   "cell_type": "markdown",
   "id": "e2ba090f-a997-4ace-a67f-25c88f856f13",
   "metadata": {},
   "source": [
    "Hint: ***p*** & ***b*** is small, so should be ***h***"
   ]
  },
  {
   "cell_type": "code",
   "execution_count": null,
   "id": "1657baaf-8f7f-4260-8ba8-7f53b0d195ae",
   "metadata": {},
   "outputs": [],
   "source": [
    "h"
   ]
  },
  {
   "cell_type": "markdown",
   "id": "eea01ba7-fca9-438f-a564-fb75d082d6d7",
   "metadata": {},
   "source": [
    " *That's very bad !!!!!!!!!!!!!!*"
   ]
  },
  {
   "cell_type": "markdown",
   "id": "934ceb56-a2c0-4533-92be-ba785e3caa73",
   "metadata": {},
   "source": [
    "Computers are the dumbest thing you will encounter <br>\n",
    "***But if you master this slave there is no servant is better than this one <br>***\n",
    "AI is not still here that can read your mind :P <br>"
   ]
  },
  {
   "cell_type": "code",
   "execution_count": null,
   "id": "de4030d0-3acf-4a66-9cdf-69b212b4e82c",
   "metadata": {},
   "outputs": [],
   "source": [
    "## Explain the problem to the computer\n",
    "H = p**2 + b**2\n",
    "H"
   ]
  },
  {
   "cell_type": "code",
   "execution_count": null,
   "id": "b682278c",
   "metadata": {},
   "outputs": [],
   "source": [
    "H**(1/2)"
   ]
  },
  {
   "cell_type": "markdown",
   "id": "d41bcd6d-1a0a-45bc-b1a7-adb80f7946a3",
   "metadata": {},
   "source": [
    "##### Think modular\n",
    "- Break your problem first, to the smallest level"
   ]
  },
  {
   "cell_type": "markdown",
   "id": "bdf7b215-9064-4a1b-beaa-ea11acddd41f",
   "metadata": {},
   "source": [
    "Your problem is to calculate **Hypotenuse square**\n",
    "1. You need **Perpendicular length**, then you need to have **square** of it\n",
    "2. You need **Base length**, then you need to have to have **square** of it\n",
    "3. Now the **sum of the squares** of these 2 is **Hypotenuse square**"
   ]
  },
  {
   "cell_type": "markdown",
   "id": "db80e092-1a3e-4816-b2d8-ff6517f3a224",
   "metadata": {},
   "source": [
    "$$ H^2 = P^2 + B^2 $$"
   ]
  },
  {
   "cell_type": "code",
   "execution_count": null,
   "id": "f4b6fb50-4440-477a-8227-a0bc5040f69c",
   "metadata": {},
   "outputs": [],
   "source": [
    "p"
   ]
  },
  {
   "cell_type": "code",
   "execution_count": null,
   "id": "35647fed",
   "metadata": {},
   "outputs": [],
   "source": [
    "p = 6"
   ]
  },
  {
   "cell_type": "code",
   "execution_count": null,
   "id": "82f4e9bc",
   "metadata": {},
   "outputs": [],
   "source": [
    "q = p"
   ]
  },
  {
   "cell_type": "code",
   "execution_count": null,
   "id": "63193cb6",
   "metadata": {},
   "outputs": [],
   "source": [
    "q"
   ]
  },
  {
   "cell_type": "code",
   "execution_count": null,
   "id": "c88d594f",
   "metadata": {},
   "outputs": [],
   "source": [
    "p"
   ]
  },
  {
   "cell_type": "code",
   "execution_count": null,
   "id": "a7e3a778",
   "metadata": {},
   "outputs": [],
   "source": [
    "H = (p**2 + b**2)**.5"
   ]
  },
  {
   "cell_type": "code",
   "execution_count": null,
   "id": "6d6fe1f8",
   "metadata": {},
   "outputs": [],
   "source": [
    "H"
   ]
  },
  {
   "cell_type": "code",
   "execution_count": null,
   "id": "7fcc75e4",
   "metadata": {},
   "outputs": [],
   "source": [
    "p = 6\n",
    "p"
   ]
  },
  {
   "cell_type": "code",
   "execution_count": null,
   "id": "be62737e",
   "metadata": {},
   "outputs": [],
   "source": [
    "p"
   ]
  },
  {
   "cell_type": "markdown",
   "id": "c87be959-f714-4f64-983f-e9a1e512e961",
   "metadata": {},
   "source": [
    "The `p`, `b`, `h` you have used above are variable names, you can variable name is an alias you are giving to the value.\n",
    "\n",
    "Like your parents have given you an alias :P\n",
    "\n",
    "In real world someone else can have the same name as you have but in any program no 2 variables can have the same name\n",
    "\n",
    "Before we move forward lets understand what happens in the memory of the system\n",
    "\n",
    "Whenever you define any variable \n",
    "\n",
    "|`Variable names ->`|p|---|b|---|h|\n",
    "|:-:|:-:|:-:|:-:|:-:|:-:|\n",
    "|**`Variable Values - >`**|3|---|4|---|5|\n",
    "|**`Memory addresses ->`**|1203|---|978|---|22298|"
   ]
  },
  {
   "cell_type": "code",
   "execution_count": null,
   "id": "08c0b67c",
   "metadata": {},
   "outputs": [],
   "source": []
  },
  {
   "cell_type": "markdown",
   "id": "a9fde8c8-09a0-40e1-a39b-c6f700c35c97",
   "metadata": {},
   "source": [
    "## Naming Rules\n",
    "\n",
    "> _There are only two hard things in Computer Science: cache invalidation and naming things._ - Phil Karlton\n",
    "\n",
    "You can _pretty much_ name variables whatever you want. But, there are a few rules we should follow. Some are strict, some are just good manners.\n",
    "\n",
    "### Variable naming rules (mandatory)\n",
    "- Names can only consist of numbers, letters and underscores. *[A to z, 0 to 9, _]*\n",
    "- Names can't begin with numbers. *[2_numbers_sum]*\n",
    "- You can't name a variable after a built-in Python keyword (eg `if`).\n",
    "\n",
    "### Variable naming rules (good manners)\n",
    "- Names should _**always**_ be descriptive (ie, don't name variables `x` and `df`)\n",
    "- No capital letters!\n",
    "- Variables should not begin with an underscore (this means something special)\n",
    "- Multi-word variables should be in `snake_case`. All lower case separated by underscores.\n",
    "- Technically, you _can_ name variables after built-in Python _functions_ (like `print`), but it's an _extremely_ bad idea to do so.\n",
    "    - Rule of thumb: If a variable name turns green, don't use it!\n",
    "    \n",
    "### Math exercise (sorry):\n",
    "Recall the quadratic formula for solving a polynomial equation with coefficients $a$, $b$, $c$:\n",
    "\n",
    "$$ x = \\frac{-b \\pm \\sqrt{b^2 - 4ac}}{2a} $$"
   ]
  },
  {
   "cell_type": "markdown",
   "id": "afc66889-7162-42d8-85ba-fa5cac1cfbe5",
   "metadata": {},
   "source": [
    "#### Think Modular\n",
    "1. \n",
    "2.\n",
    "3.\n",
    "4."
   ]
  },
  {
   "cell_type": "code",
   "execution_count": null,
   "id": "0f156b21-e9a7-4dc7-b02d-84d6f0893727",
   "metadata": {},
   "outputs": [],
   "source": [
    "a = 1.0\n",
    "b = 2\n",
    "c = 1"
   ]
  },
  {
   "cell_type": "code",
   "execution_count": null,
   "id": "01337f0e-d70f-4006-a12f-f21065aa5ee0",
   "metadata": {},
   "outputs": [],
   "source": [
    "a,b,c"
   ]
  },
  {
   "cell_type": "code",
   "execution_count": null,
   "id": "a02155a5",
   "metadata": {},
   "outputs": [],
   "source": [
    "print(a,b,c)"
   ]
  },
  {
   "cell_type": "code",
   "execution_count": null,
   "id": "ccf68803-819e-436c-96ee-ae0fd721f642",
   "metadata": {},
   "outputs": [],
   "source": [
    "b_sq = b**2"
   ]
  },
  {
   "cell_type": "code",
   "execution_count": null,
   "id": "3614da48",
   "metadata": {},
   "outputs": [],
   "source": [
    "b_sq"
   ]
  },
  {
   "cell_type": "code",
   "execution_count": null,
   "id": "d94072d9-ba85-4f17-afe2-5561122599f1",
   "metadata": {},
   "outputs": [],
   "source": [
    "four_times_ac = (4 * a) * c"
   ]
  },
  {
   "cell_type": "code",
   "execution_count": null,
   "id": "eefe63df",
   "metadata": {},
   "outputs": [],
   "source": [
    "four_times_ac"
   ]
  },
  {
   "cell_type": "code",
   "execution_count": null,
   "id": "afb58a93-c60c-46cf-8a22-25200fea976a",
   "metadata": {},
   "outputs": [],
   "source": [
    "b_sq_sub_4_ac = b_sq - four_times_ac"
   ]
  },
  {
   "cell_type": "code",
   "execution_count": null,
   "id": "b0235601",
   "metadata": {},
   "outputs": [],
   "source": [
    "b_sq_sub_4_ac"
   ]
  },
  {
   "cell_type": "code",
   "execution_count": null,
   "id": "8c4e36e3-45ef-433d-945b-9a4e31b42473",
   "metadata": {},
   "outputs": [],
   "source": [
    "sq_rt = b_sq_sub_4_ac ** .5\n",
    "print(sq_rt)"
   ]
  },
  {
   "cell_type": "code",
   "execution_count": null,
   "id": "6f8c8762-a467-4d7c-9792-4451a340bc15",
   "metadata": {},
   "outputs": [],
   "source": [
    "a = 4+7\n",
    "# print(a)"
   ]
  },
  {
   "cell_type": "code",
   "execution_count": null,
   "id": "d9557811-d55d-4938-b7d5-6d8e99dae80f",
   "metadata": {},
   "outputs": [],
   "source": [
    "a"
   ]
  },
  {
   "cell_type": "code",
   "execution_count": null,
   "id": "65494d57-99fa-4993-9ffa-75e504a63c69",
   "metadata": {},
   "outputs": [],
   "source": [
    "print(a)"
   ]
  },
  {
   "cell_type": "code",
   "execution_count": null,
   "id": "7239b911-68ea-435a-915a-5d9be34673d9",
   "metadata": {},
   "outputs": [],
   "source": [
    "# -1 * 2 + 0\n",
    "sum_or_sub_b_from_sqrt = -1*b + sq_rt\n",
    "sum_or_sub_b_from_sqrt"
   ]
  },
  {
   "cell_type": "code",
   "execution_count": null,
   "id": "74a5e84d-ce29-42a2-ae8e-546a6817f1dc",
   "metadata": {},
   "outputs": [],
   "source": [
    "two_times_a = 2*a"
   ]
  },
  {
   "cell_type": "code",
   "execution_count": null,
   "id": "f4ef030d-df71-4ea0-92ea-95c96b24009f",
   "metadata": {},
   "outputs": [],
   "source": [
    "x = sum_or_sub_b_from_sqrt/two_times_a"
   ]
  },
  {
   "cell_type": "code",
   "execution_count": null,
   "id": "23534f40",
   "metadata": {},
   "outputs": [],
   "source": [
    "x"
   ]
  },
  {
   "cell_type": "code",
   "execution_count": null,
   "id": "0871a825-164f-455e-b9b4-9cb19f6ca23a",
   "metadata": {},
   "outputs": [],
   "source": [
    "9 + 2"
   ]
  },
  {
   "cell_type": "markdown",
   "id": "74b23e91",
   "metadata": {},
   "source": [
    "$$ x = \\frac{-b \\pm \\sqrt{b^2 - 4ac}}{2a} $$"
   ]
  },
  {
   "cell_type": "code",
   "execution_count": null,
   "id": "cc5ce8eb",
   "metadata": {},
   "outputs": [],
   "source": [
    "(-1*b + (b**2 - 4*a*c)**(0.5))/(2*a)"
   ]
  },
  {
   "cell_type": "markdown",
   "id": "7b2325ef-a5e5-4546-9926-24ec0559e753",
   "metadata": {},
   "source": [
    "***Here is your output <br>No tricks this time***"
   ]
  },
  {
   "cell_type": "code",
   "execution_count": null,
   "id": "0db478bf-8c1b-4b41-9c3b-c131b10dbe31",
   "metadata": {},
   "outputs": [],
   "source": [
    "x"
   ]
  },
  {
   "cell_type": "code",
   "execution_count": null,
   "id": "4502a78f-19e2-4325-aad4-875a879c22a3",
   "metadata": {},
   "outputs": [],
   "source": [
    "print(x)"
   ]
  },
  {
   "cell_type": "markdown",
   "id": "49325485-6132-49f2-8ff3-4ee645513c32",
   "metadata": {},
   "source": [
    "So what we just saw is <br>\n",
    "**_a_** <br>\n",
    "**_b_** <br>\n",
    "**_c_** <br>\n",
    "**_b_sq_** <br>\n",
    "**_four_times_ac_** <br>\n",
    "**_b_sq_sub_4_ac_** <br>\n",
    "**_sq_rt_** <br>\n",
    "**_sum_or_sub_b_from_sqrt_** <br>\n",
    "**_two_times_a_** <br>\n",
    "**_x_** <br>\n",
    "these all are names of variables"
   ]
  },
  {
   "cell_type": "markdown",
   "id": "0ba6f61f-1e17-4ed2-af02-aae3bb2d0d1c",
   "metadata": {},
   "source": [
    "Now write your `name` again"
   ]
  },
  {
   "cell_type": "code",
   "execution_count": null,
   "id": "8c18d219-51fd-47ca-ba86-ed8aad38b65a",
   "metadata": {},
   "outputs": [],
   "source": [
    "# Enter your first name\n",
    "dog"
   ]
  },
  {
   "cell_type": "markdown",
   "id": "807072a1-ae5e-46a9-9734-f2f2dd64ee45",
   "metadata": {},
   "source": [
    "Look closely at the error\n",
    "\n",
    "Do you find anything common?\n",
    "\n",
    "Like how all `variables` are being used?\n",
    "\n",
    "So whenever you type your name python thinks it is a variable but why? Do you guys know each other? After all it is in your computer :P\n",
    "\n",
    "Lets understand why?"
   ]
  },
  {
   "cell_type": "markdown",
   "id": "1a96a5f2-914f-4e73-bebf-6a5add5f38ae",
   "metadata": {},
   "source": [
    "Lets understand how it is being used in the memory\n",
    "\n",
    "Each `var` is treated differently in memory based on `data type`\n",
    "\n",
    "Sorry what `data ...`?"
   ]
  },
  {
   "cell_type": "markdown",
   "id": "cf03a296-7f8b-4877-9f9f-588c74ca4751",
   "metadata": {},
   "source": [
    "## So, what is a \"data type\"?\n",
    "When you hear the word \"data\", you probably think of a spreadsheet. Actually, **data is a synonym for information!** Anything that represents \"information\" is data. Including any and all Python variables. If I run `x = 3`, then `x` is data!\n",
    "\n",
    "Data can come in various **types.** We've already seen two types!\n",
    "\n",
    "1. The `int` type: Integers with no decimal part (eg `2`, `-30`, `14`)\n",
    "1. The `float` type: Numbers with a decimal part, even if that part is zero (eg `2.5`, `3.141`, `2**0.5`, `-3.0`)\n",
    "\n",
    "Curious about what an object's data type is? Simply use the `type()` function to ask!\n",
    "\n",
    "```python\n",
    "type(3) # int\n",
    "type(4.2) # float\n",
    "```"
   ]
  },
  {
   "cell_type": "code",
   "execution_count": null,
   "id": "12f6e844-966c-40f6-9381-71588dfe014c",
   "metadata": {},
   "outputs": [],
   "source": [
    "b = 2.0"
   ]
  },
  {
   "cell_type": "code",
   "execution_count": null,
   "id": "e2751cb4-ad89-4741-a915-384cc87c84e6",
   "metadata": {},
   "outputs": [],
   "source": [
    "print(\"Type of a - \", type(a), \" \", a)\n",
    "print(\"Type of b - \", type(b), \" \", b)\n",
    "print(\"Type of c - \", type(c), \" \", c)\n",
    "print(\"Type of b_sq - \", type(b_sq), \" \", b_sq)\n",
    "print(\"Type of four_times_ac - \", type(four_times_ac), \" \", four_times_ac)\n",
    "print(\"Type of b_sq_sub_4_ac - \", type(b_sq_sub_4_ac), \" \", b_sq_sub_4_ac)\n",
    "print(\"Type of sq_rt - \", type(sq_rt), \" \", sq_rt)\n",
    "print(\"Type of sum_or_sub_b_from_sqrt - \", type(sum_or_sub_b_from_sqrt), \" \", sum_or_sub_b_from_sqrt)\n",
    "print(\"Type of two_times_a - \", type(two_times_a), \" \", two_times_a)\n",
    "print(\"Type of x - \", type(x), \" \", x)\n",
    "\n",
    "print('Type of \"Hi\" - ', type(\"Hi\"), \" \", \"Hi\")"
   ]
  },
  {
   "cell_type": "code",
   "execution_count": null,
   "id": "21c23c52-125e-4189-ae29-9fa25862b858",
   "metadata": {},
   "outputs": [],
   "source": [
    "type(2.0**2)"
   ]
  },
  {
   "cell_type": "markdown",
   "id": "064f7308-d6c9-44cd-8a30-c3135d65bdcd",
   "metadata": {},
   "source": [
    "Himanshu #1\n",
    "Gahlot #2"
   ]
  },
  {
   "cell_type": "code",
   "execution_count": null,
   "id": "616e55aa-911a-4719-bff9-306d81dc7fb8",
   "metadata": {},
   "outputs": [],
   "source": [
    "\"himanshu Gahlot\""
   ]
  },
  {
   "cell_type": "code",
   "execution_count": null,
   "id": "ae89da1a-0507-4a82-83c1-6c3e56331576",
   "metadata": {},
   "outputs": [],
   "source": [
    "print(\"\"\"Hi Himansh\n",
    "gahlot are you?\n",
    "jklhjklh.\n",
    "djdcjmghbv\n",
    "\"\"\")"
   ]
  },
  {
   "cell_type": "code",
   "execution_count": null,
   "id": "c4c45b64-62ad-423e-b5dc-e01f50726705",
   "metadata": {},
   "outputs": [],
   "source": [
    "4**(1/4)"
   ]
  },
  {
   "cell_type": "code",
   "execution_count": null,
   "id": "aa0ee168-09f8-49ad-b6ff-5f29a0194ae5",
   "metadata": {},
   "outputs": [],
   "source": [
    "uhgfckhg = 'bawesdbjkdsvxmc nbvklfzdngbjkldfngvjz xcm fvkjlasbnfnslknmxzk;,pp[][]'"
   ]
  },
  {
   "cell_type": "code",
   "execution_count": null,
   "id": "4c8bb468-663e-4d05-8f7a-987fffd2c580",
   "metadata": {},
   "outputs": [],
   "source": [
    "uhgfckhg"
   ]
  },
  {
   "cell_type": "code",
   "execution_count": null,
   "id": "b0f2e302-f1a5-4adb-a0f9-a535cca4425f",
   "metadata": {},
   "outputs": [],
   "source": [
    "float * int => float\n",
    "float * float => float\n",
    "int * int => int"
   ]
  },
  {
   "cell_type": "code",
   "execution_count": null,
   "id": "11c7eb1a",
   "metadata": {},
   "outputs": [],
   "source": [
    "a,b,c"
   ]
  },
  {
   "cell_type": "code",
   "execution_count": null,
   "id": "12e491a5",
   "metadata": {},
   "outputs": [],
   "source": [
    "four_times_ac = 4*a*c"
   ]
  },
  {
   "cell_type": "markdown",
   "id": "bb5fe52d-2fef-4fa8-88c9-6becc2be54a3",
   "metadata": {},
   "source": [
    "Feel free to choose your example"
   ]
  },
  {
   "cell_type": "code",
   "execution_count": null,
   "id": "ef58818a-6bed-4cef-a1f7-794a0c1fa517",
   "metadata": {},
   "outputs": [],
   "source": [
    "first_name = \"himanshu\"\n",
    "first_name"
   ]
  },
  {
   "cell_type": "code",
   "execution_count": null,
   "id": "3f83f901-a782-4bd6-89e5-15c1e167a211",
   "metadata": {},
   "outputs": [],
   "source": [
    "type(first_name)"
   ]
  },
  {
   "cell_type": "markdown",
   "id": "eb2c09f4-f15e-43cd-8f10-cc0d7d57fbc6",
   "metadata": {},
   "source": [
    "Lets settle the battle of your `Name`\n",
    "\n",
    "## String\n",
    "\n",
    "---\n",
    "\n",
    "Type your `name` inside (`\"`) or (`'`)"
   ]
  },
  {
   "cell_type": "code",
   "execution_count": null,
   "id": "17293648-cb8f-45a8-b802-26e46b635d0c",
   "metadata": {},
   "outputs": [],
   "source": [
    "# \"Himanshu\"\n"
   ]
  },
  {
   "cell_type": "markdown",
   "id": "2db648ed-f319-44a2-9638-d067434cf486",
   "metadata": {},
   "source": [
    "I know you like it write your full name"
   ]
  },
  {
   "cell_type": "code",
   "execution_count": null,
   "id": "f6518622-5f34-4e00-9c1b-f1a66ef9f830",
   "metadata": {},
   "outputs": [],
   "source": []
  },
  {
   "cell_type": "markdown",
   "id": "9975ba55-a1ee-496b-aea4-6b5c6d48d05c",
   "metadata": {},
   "source": [
    "Lets understand how is it different from other data types"
   ]
  },
  {
   "cell_type": "code",
   "execution_count": null,
   "id": "d09a68b0-2624-41cc-8396-4d55b7f41337",
   "metadata": {},
   "outputs": [],
   "source": [
    "# Enter any number, without quotes\n",
    "4"
   ]
  },
  {
   "cell_type": "code",
   "execution_count": null,
   "id": "535b1aa2-2103-43eb-9fdb-a019a0e04629",
   "metadata": {},
   "outputs": [],
   "source": [
    "# Enter any number, with quotes\n",
    "'4'"
   ]
  },
  {
   "cell_type": "markdown",
   "id": "b430ff20-e741-4af3-b8d7-5485db31f435",
   "metadata": {},
   "source": [
    "Check the \n",
    "\n",
    "```python\n",
    "type(\"any string\")\n",
    "```\n",
    "\n",
    "is it still int or float?"
   ]
  },
  {
   "cell_type": "code",
   "execution_count": null,
   "id": "e59bfde0-4e2f-4868-a840-47968a0d2718",
   "metadata": {},
   "outputs": [],
   "source": [
    "4 + \"Himanshu\""
   ]
  },
  {
   "cell_type": "markdown",
   "id": "f634e474-9bf5-4d25-8e3b-da354727c676",
   "metadata": {},
   "source": [
    "Enter your **first name** in `first line` & **last name** in `second line`\n",
    "<br>`\"First Name` <br>\n",
    "`Last Name\"`"
   ]
  },
  {
   "cell_type": "code",
   "execution_count": null,
   "id": "242a4b02-9f9b-4d3a-941e-115b6d13e371",
   "metadata": {},
   "outputs": [],
   "source": [
    "print('''Himanshu\n",
    "Gahlot''')"
   ]
  },
  {
   "cell_type": "markdown",
   "id": "633e12e0-e26a-4a75-adf7-08d8a6280adf",
   "metadata": {},
   "source": [
    "_**Ahhh!!!!!!!!**_\n",
    "<br>What if you would love to write books here :P\n",
    "\n",
    "How to enter multi-lines"
   ]
  },
  {
   "cell_type": "code",
   "execution_count": null,
   "id": "a9f99d19-ccb9-466c-b67a-a30074043a7f",
   "metadata": {},
   "outputs": [],
   "source": []
  },
  {
   "cell_type": "markdown",
   "id": "a0194156-056a-45fe-8934-182ee18493e6",
   "metadata": {},
   "source": [
    "Try with print"
   ]
  },
  {
   "cell_type": "code",
   "execution_count": null,
   "id": "71deaec8-a349-4e7d-8b3c-e447bbad453b",
   "metadata": {},
   "outputs": [],
   "source": [
    "print(\"\"\"\n",
    "\"\"\")"
   ]
  },
  {
   "cell_type": "code",
   "execution_count": null,
   "id": "c50f0cb9",
   "metadata": {},
   "outputs": [],
   "source": [
    "first_name =\"Himanshu\"\n",
    "first_name"
   ]
  },
  {
   "cell_type": "code",
   "execution_count": null,
   "id": "1c5eb40c",
   "metadata": {},
   "outputs": [],
   "source": [
    "last_name = \"Gahlot\"\n",
    "last_name"
   ]
  },
  {
   "cell_type": "markdown",
   "id": "0a82df87-90e1-41ab-81bd-30463cb85a6e",
   "metadata": {},
   "source": [
    "Can you spot the difference?"
   ]
  },
  {
   "cell_type": "markdown",
   "id": "d6380b85-927a-452f-8ebf-ec20d72275db",
   "metadata": {},
   "source": [
    "Can we store in the `var` as well?\n",
    "\n",
    "Lets try it"
   ]
  },
  {
   "cell_type": "markdown",
   "id": "501c05e9-d101-4351-9832-8604c81873b1",
   "metadata": {},
   "source": [
    "What about multi-line?"
   ]
  },
  {
   "cell_type": "code",
   "execution_count": null,
   "id": "afd8b44b-9675-4531-89f3-d1c8caf9aa10",
   "metadata": {},
   "outputs": [],
   "source": [
    "quote = \"\"\"\n",
    "\n",
    "\"\"\"\n",
    "print(quote)"
   ]
  },
  {
   "cell_type": "markdown",
   "id": "33b83535-a55f-40dd-bbc8-7440c90f941c",
   "metadata": {},
   "source": [
    "You guys are `Simply Perfecto!`\n",
    "\n",
    "Lets see can you guys guess output right?\n",
    "\n",
    "`\"3\" + \"4\" = 7`? "
   ]
  },
  {
   "cell_type": "code",
   "execution_count": null,
   "id": "821d9993",
   "metadata": {},
   "outputs": [],
   "source": [
    "3+4"
   ]
  },
  {
   "cell_type": "code",
   "execution_count": null,
   "id": "51b7b379",
   "metadata": {},
   "outputs": [],
   "source": [
    "\"3\" + \"4\""
   ]
  },
  {
   "cell_type": "markdown",
   "id": "e7f751b7-b86b-44f9-a702-f9dec7fafbef",
   "metadata": {},
   "source": [
    "## Maths with a twist \n",
    "\n",
    "--- \n",
    "Maths on strings\n",
    "\n",
    "As you have seen from the above example you don't know even the addition\n",
    "\n",
    "```python\n",
    "Very Very Bad!!!\n",
    "```\n",
    "\n",
    "Lets understand the new addition"
   ]
  },
  {
   "cell_type": "code",
   "execution_count": null,
   "id": "bb482d86-9494-45fb-8fb0-32a5ba07f72d",
   "metadata": {},
   "outputs": [],
   "source": [
    "print(\"3\" + \"4\")\n",
    "print(3 + 4)"
   ]
  },
  {
   "cell_type": "markdown",
   "id": "e8ac58bd-c2e2-480d-810e-f4651b9bd16e",
   "metadata": {},
   "source": [
    "What if we mix the data types, will we get the sum?"
   ]
  },
  {
   "cell_type": "code",
   "execution_count": null,
   "id": "d185b7ad-53e8-4cd4-af6a-6bd98370401c",
   "metadata": {},
   "outputs": [],
   "source": [
    "print(3 + \"himanshu\")"
   ]
  },
  {
   "cell_type": "code",
   "execution_count": null,
   "id": "a5ea949a",
   "metadata": {},
   "outputs": [],
   "source": [
    "6 * \"himanshu\""
   ]
  },
  {
   "cell_type": "code",
   "execution_count": null,
   "id": "fb9c1845-2727-436c-8ccc-7ec6611530b5",
   "metadata": {},
   "outputs": [],
   "source": [
    "\"himanshu\" / 6"
   ]
  },
  {
   "cell_type": "markdown",
   "id": "04dad538-896d-41fa-a95c-d8c728257744",
   "metadata": {},
   "source": [
    "***Not Again!!!!***\n",
    "\n",
    "Reason?"
   ]
  },
  {
   "cell_type": "markdown",
   "id": "2205ab77-fc19-4b06-9a3c-6ff95bfca0a9",
   "metadata": {},
   "source": [
    "Define 2 `variables` based on your `First Name` & `Second Name`\n",
    "1. first_name\n",
    "2. last_name"
   ]
  },
  {
   "cell_type": "code",
   "execution_count": null,
   "id": "934b7d3e",
   "metadata": {},
   "outputs": [],
   "source": [
    "first_name = \"Himanshu\"\n",
    "last_name = \"Gahlot\""
   ]
  },
  {
   "cell_type": "markdown",
   "id": "720b7ad0-07a0-47aa-a9a7-6290462982b3",
   "metadata": {},
   "source": [
    "Memory implementation\n",
    "\n",
    "|`Variable names ->`|first_name|\n",
    "|:-:|:-:|\n",
    "|**`Variable Values - >`**|\"H\", \"i\", \"m\", \"a\", \"n\", \"s\", \"h\", \"u\"|\n",
    "|**`Len of variable - >`**|8|\n",
    "|**`Memory addresses ->`**|1203, 1204, 1205, 1206, 1207, 1208, 1209, 1210|"
   ]
  },
  {
   "cell_type": "markdown",
   "id": "3042e84b-eec1-4494-a7b1-3de4854bcab5",
   "metadata": {},
   "source": [
    "Now some examples\n",
    "1. Print your `last name`, `first name`\n",
    "2. Print your `last name` first and then `first name`\n",
    "3. Save & Print `space` between `First Name and Last Name`"
   ]
  },
  {
   "cell_type": "code",
   "execution_count": null,
   "id": "ddb900d4-d168-46fd-b6f0-9d6c98ff2452",
   "metadata": {},
   "outputs": [],
   "source": [
    "print(last_name,first_name)"
   ]
  },
  {
   "cell_type": "code",
   "execution_count": null,
   "id": "dd65ffeb-ed81-4fb9-82a9-d2d45b5cb455",
   "metadata": {},
   "outputs": [],
   "source": [
    "last_name,first_name"
   ]
  },
  {
   "cell_type": "code",
   "execution_count": null,
   "id": "6f6b9230-69bf-42c8-9497-eab7ca91c867",
   "metadata": {},
   "outputs": [],
   "source": [
    "print(first_name, last_name)"
   ]
  },
  {
   "cell_type": "code",
   "execution_count": null,
   "id": "b3bc5ef9",
   "metadata": {},
   "outputs": [],
   "source": [
    "5**2"
   ]
  },
  {
   "cell_type": "markdown",
   "id": "3721ccac-c6be-4371-8d44-92d838002d99",
   "metadata": {},
   "source": [
    "## String Functions\n",
    "1. Upper\n",
    "2. Lower\n",
    "3. Replace\n",
    "4. Length\n",
    "5. Split\n",
    "\n",
    "---\n",
    "\n",
    "To use these methods we need to\n",
    "```python\n",
    "string_variable_name.method(param)\n",
    "```"
   ]
  },
  {
   "cell_type": "code",
   "execution_count": null,
   "id": "19bb9c40",
   "metadata": {},
   "outputs": [],
   "source": [
    "print(\"\"\"asdjhkjasnvkjsnvk \n",
    "hjlklklknlk\n",
    "jkavcbjasdjkn\n",
    "jnkjnkjnjkn\n",
    "\"\"\")"
   ]
  },
  {
   "cell_type": "code",
   "execution_count": null,
   "id": "6b6dd33e-fbe9-4aa5-b17c-bca04b8cb896",
   "metadata": {},
   "outputs": [],
   "source": [
    "string_example = \"hi my Name is Anthony Gonsalves\"\n",
    "print(string_example)"
   ]
  },
  {
   "cell_type": "code",
   "execution_count": null,
   "id": "d9ce2689-28d2-45c4-bc8a-83df37926454",
   "metadata": {},
   "outputs": [],
   "source": [
    "string_example = string_example.upper()"
   ]
  },
  {
   "cell_type": "code",
   "execution_count": null,
   "id": "5872d2de-0b57-46cd-9132-24fd6830a345",
   "metadata": {},
   "outputs": [],
   "source": [
    "string_example"
   ]
  },
  {
   "cell_type": "code",
   "execution_count": null,
   "id": "6677f218-9a48-4849-bae5-92fb183e2488",
   "metadata": {},
   "outputs": [],
   "source": [
    "print(string_example.upper())\n",
    "# print(string_example)"
   ]
  },
  {
   "cell_type": "code",
   "execution_count": null,
   "id": "b1783480-d4fb-4702-8770-6a5248408c72",
   "metadata": {},
   "outputs": [],
   "source": [
    "print(string_example.lower())"
   ]
  },
  {
   "cell_type": "code",
   "execution_count": null,
   "id": "bf686ade",
   "metadata": {},
   "outputs": [],
   "source": [
    "print(string_example)"
   ]
  },
  {
   "cell_type": "code",
   "execution_count": null,
   "id": "b745f865-bf19-4b0e-b544-1a7bedd8ea54",
   "metadata": {},
   "outputs": [],
   "source": [
    "print(string_example.replace(\"name\", \"full name\"))"
   ]
  },
  {
   "cell_type": "code",
   "execution_count": null,
   "id": "dfd0b113-b15f-45d8-ba6f-3fa076bc2bf8",
   "metadata": {},
   "outputs": [],
   "source": [
    "print(len(first_name))"
   ]
  },
  {
   "cell_type": "code",
   "execution_count": null,
   "id": "c0d21399",
   "metadata": {},
   "outputs": [],
   "source": [
    "first_name"
   ]
  },
  {
   "cell_type": "code",
   "execution_count": null,
   "id": "58af53dc",
   "metadata": {},
   "outputs": [],
   "source": [
    "\"Himanshu Gahlot\".split(\" \")"
   ]
  },
  {
   "cell_type": "code",
   "execution_count": null,
   "id": "dc7f6894-66fc-46f2-8192-f71396acdadf",
   "metadata": {},
   "outputs": [],
   "source": [
    "string_example"
   ]
  },
  {
   "cell_type": "code",
   "execution_count": null,
   "id": "de56077d-28d5-490d-b9a5-225c60c3ee2a",
   "metadata": {},
   "outputs": [],
   "source": [
    "print(string_example.split(\" \"))"
   ]
  },
  {
   "cell_type": "code",
   "execution_count": null,
   "id": "e659b3b6-c563-416c-9a60-de2ef68c69dc",
   "metadata": {},
   "outputs": [],
   "source": [
    "string_example.split(\" \")[3]"
   ]
  },
  {
   "cell_type": "code",
   "execution_count": null,
   "id": "01fdacf6-75e9-403a-bc95-a7932d76ab6a",
   "metadata": {},
   "outputs": [],
   "source": [
    "string_example"
   ]
  },
  {
   "cell_type": "code",
   "execution_count": null,
   "id": "353c604a-ea8f-4b2e-9030-f7a68497edc4",
   "metadata": {},
   "outputs": [],
   "source": [
    "string_example.replace(\"Anthony Gonsalves\", \"Hi\")"
   ]
  },
  {
   "cell_type": "code",
   "execution_count": null,
   "id": "8041ad02-0593-4ccc-b1ec-7478cfd72ae6",
   "metadata": {},
   "outputs": [],
   "source": [
    "string_example.replace(\"Himanshu\", last_name)"
   ]
  },
  {
   "cell_type": "code",
   "execution_count": null,
   "id": "f288acb3-ac1f-4b37-bf65-730b197bcc8d",
   "metadata": {},
   "outputs": [],
   "source": [
    "first_name = \"Himanshu\"\n",
    "last_name = \"Gahlot\"\n",
    "print(string_example.replace(first_name, last_name))"
   ]
  },
  {
   "cell_type": "markdown",
   "id": "91388ea7-8352-4761-b459-d1c9f6464403",
   "metadata": {},
   "source": [
    "Last example the output is little weird, isn't it?\n",
    "\n",
    "For sure it is not the `string` and god help me if I compare it with `int` or `float`.\n",
    "\n",
    "Ok let me introduce to you, one of the most important data types in Python, `Collection`.\n",
    "\n",
    "---\n",
    "\n",
    "## Collections\n",
    "\n",
    "When ever we store multiple items in a single variable the we say it belongs to collections\n",
    "\n",
    "Example of collections - \n",
    "1. List\n",
    "2. Tuple\n",
    "3. Dict\n",
    "4. Set\n",
    "\n",
    "Lets undertand one by one"
   ]
  },
  {
   "cell_type": "markdown",
   "id": "8d213072-112e-452b-bc29-197e8408bc58",
   "metadata": {},
   "source": [
    "## List\n",
    "\n",
    "---\n",
    "\n",
    "If I ask you to store your first name and last name in the following way"
   ]
  },
  {
   "cell_type": "code",
   "execution_count": null,
   "id": "4a3d4c96",
   "metadata": {},
   "outputs": [],
   "source": [
    "[\"9\",6,7,8,9]"
   ]
  },
  {
   "cell_type": "code",
   "execution_count": null,
   "id": "a78a8bb1-596e-4ac7-b184-895d3b9fa7bc",
   "metadata": {},
   "outputs": [],
   "source": [
    "full_name = [first_name, last_name]\n",
    "print(full_name)"
   ]
  },
  {
   "cell_type": "markdown",
   "id": "17a1ee9b-145a-40f5-8c7d-7808e5352225",
   "metadata": {},
   "source": [
    "What you need to observe is, there is a new way we are using to create a variable\n",
    "\n",
    "Earlier we used to give this\n",
    "\n",
    "```python\n",
    "varibale_name_a = variable_name_b\n",
    "```\n",
    "\n",
    "but now we are using `varibale_name_a = [variable_name_b]`\n",
    "\n",
    "These suqare brackets (`[]`) are the only new thing here, rest everything is the same\n",
    "\n",
    "Lets see if we still have the name as string or not?"
   ]
  },
  {
   "cell_type": "code",
   "execution_count": null,
   "id": "903d6442-f67e-4356-9fdd-128eea4ae390",
   "metadata": {},
   "outputs": [],
   "source": [
    "type(first_name)"
   ]
  },
  {
   "cell_type": "code",
   "execution_count": null,
   "id": "4558093d-62ea-41ff-9d9d-14edc27336d1",
   "metadata": {},
   "outputs": [],
   "source": [
    "type(last_name)"
   ]
  },
  {
   "cell_type": "markdown",
   "id": "1391e4e6-61b1-4347-9a6a-b309d95b7b08",
   "metadata": {},
   "source": [
    "`str` is the output.\n",
    "\n",
    "No surprises here, everything is the same as expected"
   ]
  },
  {
   "cell_type": "code",
   "execution_count": null,
   "id": "03e6b807-f2b9-468f-89b3-3c58910101b2",
   "metadata": {},
   "outputs": [],
   "source": [
    "type(full_name)"
   ]
  },
  {
   "cell_type": "markdown",
   "id": "84cb77f3-4816-4d74-a8ad-4d59cdefebe7",
   "metadata": {},
   "source": [
    "Here it is `list` not `str`, though `first_name` and `last_name` are `str`\n",
    "\n",
    "This is `list` because it is not storing any `str` like `first_name` or `last_name`, what it is having is `2 str` members as it constituents\n",
    "\n",
    "If we pay a close attention to how it is stored in the memory then we have better understanding about it"
   ]
  },
  {
   "cell_type": "markdown",
   "id": "ba3889d8-cd75-41df-964b-9aa16104a4fe",
   "metadata": {},
   "source": [
    "|`Variable names ->`|first_name|---|last_name|---|full_name|\n",
    "|:-:|:-:|:-:|:-:|:-:|:-:|\n",
    "|**`Variable Values - >`**|\"Himanshu\"|---|\"Gahlot\"|---|1203, 978|\n",
    "|**`Len of variable - >`**|8|---|6|---|2|\n",
    "|**`Memory addresses ->`**|1203, 1204.. +8|---|978, 979.. +6|---|22298, 22299|"
   ]
  },
  {
   "cell_type": "markdown",
   "id": "8d9fb2d7-f150-436c-8fc9-04126683b6fd",
   "metadata": {},
   "source": [
    "List and String share common way of addressing mechanism"
   ]
  },
  {
   "cell_type": "markdown",
   "id": "2a011b38-b52e-4b28-be85-731265c9b70d",
   "metadata": {},
   "source": [
    "***Remember***\n",
    "\n",
    "|`Variable names ->`|first_name|\n",
    "|:-:|:-:|\n",
    "|**`Variable Values - >`**|\"H\", \"i\", \"m\", \"a\", \"n\", \"s\", \"h\", \"u\"|\n",
    "|**`Len of variable - >`**|8|\n",
    "|**`Memory addresses ->`**|1203, 1204, 1205, 1206, 1207, 1208, 1209, 1210|\n",
    "|**`Position ->`**|0, 1, 2, 3, 4, 5, 6, 7|"
   ]
  },
  {
   "cell_type": "code",
   "execution_count": null,
   "id": "576530fd",
   "metadata": {},
   "outputs": [],
   "source": [
    "full_name = [\"Himanshu\", \"Gahlot\"]"
   ]
  },
  {
   "cell_type": "code",
   "execution_count": null,
   "id": "351f2d5c",
   "metadata": {},
   "outputs": [],
   "source": [
    "full_name = [first_name, last_name]"
   ]
  },
  {
   "cell_type": "code",
   "execution_count": null,
   "id": "7595fff7",
   "metadata": {},
   "outputs": [],
   "source": [
    "full_name"
   ]
  },
  {
   "cell_type": "code",
   "execution_count": null,
   "id": "91f61444",
   "metadata": {},
   "outputs": [],
   "source": [
    "first_name = \"Himanshu\"\n",
    "last_name = \"Gahlot\""
   ]
  },
  {
   "cell_type": "code",
   "execution_count": null,
   "id": "7ee9c85a",
   "metadata": {},
   "outputs": [],
   "source": [
    "print(\"first name \", type(first_name))\n",
    "print(\"full name \", type(full_name))"
   ]
  },
  {
   "cell_type": "code",
   "execution_count": null,
   "id": "e40b2ce5-082c-4e6b-9918-0d4ea09ae397",
   "metadata": {},
   "outputs": [],
   "source": [
    "first_name[0]"
   ]
  },
  {
   "cell_type": "code",
   "execution_count": null,
   "id": "678246ce",
   "metadata": {},
   "outputs": [],
   "source": [
    "full_name[0]"
   ]
  },
  {
   "cell_type": "code",
   "execution_count": null,
   "id": "91db28a1-75d0-417b-8c09-b76a0a92530c",
   "metadata": {},
   "outputs": [],
   "source": [
    "# Last character of your name \n",
    "first_name[-1]"
   ]
  },
  {
   "cell_type": "code",
   "execution_count": null,
   "id": "9a1ad686-1bdd-4f6b-aa1b-dd10e3675eed",
   "metadata": {},
   "outputs": [],
   "source": [
    "# Last element in the list\n",
    "full_name[-1]"
   ]
  },
  {
   "cell_type": "code",
   "execution_count": null,
   "id": "87688091-a611-4807-94ca-1da38bf4e8cc",
   "metadata": {},
   "outputs": [],
   "source": [
    "# Last 2nd charachter of your name\n",
    "first_name[-2]"
   ]
  },
  {
   "cell_type": "code",
   "execution_count": null,
   "id": "b89d2310-9f9c-489c-af10-aa1316098eab",
   "metadata": {},
   "outputs": [],
   "source": [
    "# Last 2nd element of the list\n",
    "full_name[-2]"
   ]
  },
  {
   "cell_type": "code",
   "execution_count": null,
   "id": "c201ea81",
   "metadata": {},
   "outputs": [],
   "source": [
    "first_name[2:]"
   ]
  },
  {
   "cell_type": "code",
   "execution_count": null,
   "id": "9560bfc1-54d5-433e-9b26-4923f80a54eb",
   "metadata": {},
   "outputs": [],
   "source": [
    "# Except last charachter of your name\n",
    "first_name[1:-1]"
   ]
  },
  {
   "cell_type": "code",
   "execution_count": null,
   "id": "8caaf767-12f1-416c-9324-7cd701adcc89",
   "metadata": {},
   "outputs": [],
   "source": [
    "# Except last element of the list\n",
    "full_name[:-1]"
   ]
  },
  {
   "cell_type": "code",
   "execution_count": null,
   "id": "f13539a9-3dd3-4b0e-94a9-5e14bd57f77b",
   "metadata": {},
   "outputs": [],
   "source": [
    "# Print your name in reverse order\n",
    "first_name[ : : -1]"
   ]
  },
  {
   "cell_type": "code",
   "execution_count": null,
   "id": "e14dedcc-03f9-486f-849f-848aa83628da",
   "metadata": {},
   "outputs": [],
   "source": [
    "# Print elements in reverse order\n",
    "full_name[::-1]"
   ]
  },
  {
   "cell_type": "code",
   "execution_count": null,
   "id": "e897954e",
   "metadata": {},
   "outputs": [],
   "source": [
    "# Print a part of name\n",
    "first_name[1 : 3]"
   ]
  },
  {
   "cell_type": "code",
   "execution_count": null,
   "id": "701010b7",
   "metadata": {},
   "outputs": [],
   "source": [
    "# Print a part of name\n",
    "\"asma\"[1 : 3]"
   ]
  },
  {
   "cell_type": "markdown",
   "id": "ccd6482e-0922-4ef0-88da-fcbfd61ef689",
   "metadata": {},
   "source": [
    "## List Operations"
   ]
  },
  {
   "cell_type": "code",
   "execution_count": null,
   "id": "2719f168",
   "metadata": {},
   "outputs": [],
   "source": [
    "full_name"
   ]
  },
  {
   "cell_type": "markdown",
   "id": "fca3dfba",
   "metadata": {},
   "source": [
    "Himanshu !! Gahlot"
   ]
  },
  {
   "cell_type": "code",
   "execution_count": null,
   "id": "3a8e1700",
   "metadata": {},
   "outputs": [],
   "source": [
    "list(first_name)"
   ]
  },
  {
   "cell_type": "code",
   "execution_count": null,
   "id": "6caa68a9",
   "metadata": {},
   "outputs": [],
   "source": [
    "\"A\".join(list(first_name))"
   ]
  },
  {
   "cell_type": "code",
   "execution_count": null,
   "id": "c6852bf6-36c6-478e-9ed1-c7eea1035eaa",
   "metadata": {},
   "outputs": [],
   "source": [
    "# Print your full name with space\n",
    "\" \".join(full_name)"
   ]
  },
  {
   "cell_type": "code",
   "execution_count": null,
   "id": "61e0c818-bbc9-45b5-93cf-68432ab19e90",
   "metadata": {},
   "outputs": [],
   "source": [
    "# Print your full name with a comma\n",
    "\", \".join(full_name)"
   ]
  },
  {
   "cell_type": "code",
   "execution_count": null,
   "id": "f045e437",
   "metadata": {},
   "outputs": [],
   "source": [
    "full_name[::-2]"
   ]
  },
  {
   "cell_type": "code",
   "execution_count": null,
   "id": "8df2f78b-1329-4b95-ab73-c9a236832061",
   "metadata": {},
   "outputs": [],
   "source": [
    "# Print your full name in reverse order with space\n",
    "\" \".join(full_name[::-2])"
   ]
  },
  {
   "cell_type": "code",
   "execution_count": null,
   "id": "c890e04b",
   "metadata": {},
   "outputs": [],
   "source": [
    "fullname = ['abc', 'ansar']\n",
    "\" \".join(fullname)"
   ]
  },
  {
   "cell_type": "code",
   "execution_count": null,
   "id": "4ea2da4c",
   "metadata": {},
   "outputs": [],
   "source": [
    "# Another method to print your full name with space\n",
    "print(full_name[0] + \" \" + full_name[1])"
   ]
  },
  {
   "cell_type": "code",
   "execution_count": null,
   "id": "402d8846",
   "metadata": {},
   "outputs": [],
   "source": [
    "# Print your full name in reverse order with space\n",
    "print(full_name[1] + \" \" + full_name[0])"
   ]
  },
  {
   "cell_type": "code",
   "execution_count": null,
   "id": "7be495be-7400-4429-b127-df3c19420a6a",
   "metadata": {},
   "outputs": [],
   "source": [
    "# If you want to remove last element from the list\n",
    "full_name.pop()"
   ]
  },
  {
   "cell_type": "code",
   "execution_count": null,
   "id": "76a91ae6-7471-4185-8386-9b139667a55c",
   "metadata": {},
   "outputs": [],
   "source": [
    "# Print again list\n",
    "full_name"
   ]
  },
  {
   "cell_type": "code",
   "execution_count": null,
   "id": "4e25e964-f385-4d42-9e90-1b7f5bdfe5a0",
   "metadata": {},
   "outputs": [],
   "source": [
    "# Add again your last name\n",
    "full_name.append(\"Gahlot\")"
   ]
  },
  {
   "cell_type": "code",
   "execution_count": null,
   "id": "409e27dd",
   "metadata": {},
   "outputs": [],
   "source": [
    "# Print again list\n",
    "full_name"
   ]
  },
  {
   "cell_type": "code",
   "execution_count": null,
   "id": "194a1701-8c83-494b-8618-8ab85255440a",
   "metadata": {},
   "outputs": [],
   "source": [
    "# Add again your mobile number\n",
    "full_name.append(999999999)"
   ]
  },
  {
   "cell_type": "code",
   "execution_count": null,
   "id": "384630ed-9118-4692-adbf-63c778e1e8ff",
   "metadata": {},
   "outputs": [],
   "source": [
    "# Print again list\n",
    "full_name"
   ]
  },
  {
   "cell_type": "code",
   "execution_count": null,
   "id": "8e34d7ac",
   "metadata": {},
   "outputs": [],
   "source": [
    "# Add again your mobile number\n",
    "full_name.append(\"Pranshu\")\n",
    "full_name"
   ]
  },
  {
   "cell_type": "code",
   "execution_count": null,
   "id": "a39dc1c9",
   "metadata": {},
   "outputs": [],
   "source": [
    "full_name.append(full_name)\n",
    "full_name"
   ]
  },
  {
   "cell_type": "code",
   "execution_count": null,
   "id": "c11b47e3",
   "metadata": {},
   "outputs": [],
   "source": [
    "full_name[4][4]"
   ]
  },
  {
   "cell_type": "code",
   "execution_count": null,
   "id": "f41dc3c1",
   "metadata": {},
   "outputs": [],
   "source": [
    "First_name=\"Jyothi\"\n",
    "Last_name=\"Prabhu\"\n",
    "Full_name=[First_name, Last_name]\n",
    "Full_name=[\"Jyothi\", \"Prabhu\"]\n",
    "print(Full_name)"
   ]
  },
  {
   "cell_type": "code",
   "execution_count": null,
   "id": "971287ac",
   "metadata": {},
   "outputs": [],
   "source": [
    "print(full_name)"
   ]
  },
  {
   "cell_type": "markdown",
   "id": "acc37e2a-aa4c-4865-a1cd-ea71e501aaa4",
   "metadata": {},
   "source": [
    "Properties of list\n",
    "\n",
    "**Mutable** - You can change the values in the list (as you have seen above we have `append`, `pop` as functions, it changes the list)<br>\n",
    "**Hetrogenous** - It can have different data type elements in a single list (as you have seen above we have a list of string and we added a `mobile number`)"
   ]
  },
  {
   "cell_type": "markdown",
   "id": "a7193e44",
   "metadata": {},
   "source": [
    "Enough about lists\n",
    "\n",
    "Lets see List like similar data type - `Tuples`\n",
    "\n",
    "## Tuples\n",
    "\n",
    "How we define tuples?"
   ]
  },
  {
   "cell_type": "code",
   "execution_count": null,
   "id": "ae0d5f4d",
   "metadata": {},
   "outputs": [],
   "source": [
    "# list\n",
    "first_name = \"himanshu\"\n",
    "full_name = [first_name, last_name]"
   ]
  },
  {
   "cell_type": "code",
   "execution_count": null,
   "id": "43ce13b2",
   "metadata": {},
   "outputs": [],
   "source": [
    "full_name = (first_name, last_name)"
   ]
  },
  {
   "cell_type": "code",
   "execution_count": null,
   "id": "b05b0d5e",
   "metadata": {},
   "outputs": [],
   "source": [
    "list(full_name)"
   ]
  },
  {
   "cell_type": "code",
   "execution_count": null,
   "id": "b2a2ccd4",
   "metadata": {},
   "outputs": [],
   "source": [
    "full_name"
   ]
  },
  {
   "cell_type": "code",
   "execution_count": null,
   "id": "bab2d7ae",
   "metadata": {},
   "outputs": [],
   "source": [
    "# First element of the Tuple\n",
    "full_name[0]"
   ]
  },
  {
   "cell_type": "code",
   "execution_count": null,
   "id": "c6c5c452",
   "metadata": {},
   "outputs": [],
   "source": [
    "# Second element of Tuple\n",
    "full_name[1]"
   ]
  },
  {
   "cell_type": "code",
   "execution_count": null,
   "id": "aff839bf",
   "metadata": {},
   "outputs": [],
   "source": [
    "# Last element of the Tuple\n",
    "full_name[-1]"
   ]
  },
  {
   "cell_type": "code",
   "execution_count": null,
   "id": "d407e27a",
   "metadata": {},
   "outputs": [],
   "source": [
    "full_name"
   ]
  },
  {
   "cell_type": "code",
   "execution_count": null,
   "id": "23d55a7c",
   "metadata": {},
   "outputs": [],
   "source": [
    "# Reverse the Tuple\n",
    "full_name[::-1]"
   ]
  },
  {
   "cell_type": "code",
   "execution_count": null,
   "id": "c935d650",
   "metadata": {},
   "outputs": [],
   "source": [
    "full_name"
   ]
  },
  {
   "cell_type": "markdown",
   "id": "c0c64de6",
   "metadata": {},
   "source": [
    "Why we need `Tuples` when we have list for us\n",
    "\n",
    "Both of them looks the same"
   ]
  },
  {
   "cell_type": "code",
   "execution_count": null,
   "id": "58a2f822",
   "metadata": {},
   "outputs": [],
   "source": [
    "# Remove the last element\n",
    "full_name.pop()"
   ]
  },
  {
   "cell_type": "code",
   "execution_count": null,
   "id": "832b40ea",
   "metadata": {},
   "outputs": [],
   "source": [
    "# Append last name\n",
    "full_name.append(last_name)"
   ]
  },
  {
   "cell_type": "code",
   "execution_count": null,
   "id": "3070acff",
   "metadata": {},
   "outputs": [],
   "source": [
    "first_name= [\"kiran\"]\n",
    "last_name=[\"patil\"]\n",
    "full_name = (first_name, last_name)\n",
    "full_name\n",
    "full_name[0].pop()"
   ]
  },
  {
   "cell_type": "code",
   "execution_count": null,
   "id": "6c095389",
   "metadata": {},
   "outputs": [],
   "source": [
    "full_name"
   ]
  },
  {
   "cell_type": "code",
   "execution_count": null,
   "id": "00b4c0b2",
   "metadata": {},
   "outputs": [],
   "source": [
    "full_name2 = (\"himanshu\", \"gahlot\")\n",
    "full_name2.pop()"
   ]
  },
  {
   "cell_type": "code",
   "execution_count": null,
   "id": "d00683c6",
   "metadata": {},
   "outputs": [],
   "source": []
  },
  {
   "cell_type": "markdown",
   "id": "62a90b84",
   "metadata": {},
   "source": [
    "So it is clear we cannot change anything in the list once it is created\n",
    "\n",
    "This is one of the property of Tuples, known as **Immutables**\n",
    "\n",
    "They are **Heterogenous** too like Lists\n",
    "\n",
    "Thats it folks for the Tuples, lets move on to the new data type"
   ]
  },
  {
   "cell_type": "markdown",
   "id": "8090a96c",
   "metadata": {},
   "source": [
    "# Set\n",
    "***\n",
    "\n",
    "Set is similar to list and Tuple with an exception, that all the elements in set are unique, means we can't have duplicate elements in set\n",
    "\n",
    "We can think of set as mathematical set, both have same properties"
   ]
  },
  {
   "cell_type": "code",
   "execution_count": null,
   "id": "727e7294",
   "metadata": {},
   "outputs": [],
   "source": [
    "# Lets define a set with duplicate values\n",
    "duplicate_set = {3,2,1,2,1, \"himanshu\", \"A\"}\n",
    "duplicate_set"
   ]
  },
  {
   "cell_type": "code",
   "execution_count": null,
   "id": "461c96bf",
   "metadata": {},
   "outputs": [],
   "source": [
    "y = list(duplicate_set)\n",
    "y[0]"
   ]
  },
  {
   "cell_type": "code",
   "execution_count": null,
   "id": "d05666b9",
   "metadata": {},
   "outputs": [],
   "source": [
    "y"
   ]
  },
  {
   "cell_type": "code",
   "execution_count": null,
   "id": "eacc37e6",
   "metadata": {},
   "outputs": [],
   "source": [
    "a = \"Jyothi\"\n",
    "[\"Jyothi\", \"\"]"
   ]
  },
  {
   "cell_type": "code",
   "execution_count": null,
   "id": "1f4cd997",
   "metadata": {},
   "outputs": [],
   "source": [
    "# How to access elements in this, it is as same as list, tuple\n",
    "list(duplicate_set)[0]"
   ]
  },
  {
   "cell_type": "code",
   "execution_count": null,
   "id": "6d2472eb",
   "metadata": {},
   "outputs": [],
   "source": [
    "# Build set from list\n",
    "duplicated_list = [1,2,3,4,5,4,3,2,1]\n",
    "de_duplicated_list = set(duplicated_list)\n",
    "de_duplicated_list"
   ]
  },
  {
   "cell_type": "markdown",
   "id": "1d1ae54e",
   "metadata": {},
   "source": [
    "## Set operation"
   ]
  },
  {
   "cell_type": "markdown",
   "id": "bfd6fa0b",
   "metadata": {},
   "source": [
    "![](./intersections.jpg)"
   ]
  },
  {
   "cell_type": "code",
   "execution_count": null,
   "id": "69bd1069",
   "metadata": {},
   "outputs": [],
   "source": [
    "print(de_duplicated_list)\n",
    "print(duplicate_set)"
   ]
  },
  {
   "cell_type": "code",
   "execution_count": null,
   "id": "59b9981a",
   "metadata": {},
   "outputs": [],
   "source": [
    "de_duplicated_list.intersection(duplicate_set)"
   ]
  },
  {
   "cell_type": "markdown",
   "id": "9bbef6ef",
   "metadata": {},
   "source": [
    "![](./union.jpg)"
   ]
  },
  {
   "cell_type": "code",
   "execution_count": null,
   "id": "531059f6",
   "metadata": {},
   "outputs": [],
   "source": [
    "de_duplicated_list.union(duplicate_set)"
   ]
  },
  {
   "cell_type": "markdown",
   "id": "ffce9f16",
   "metadata": {},
   "source": [
    "![](./subtraction.jpg)"
   ]
  },
  {
   "cell_type": "code",
   "execution_count": null,
   "id": "555d68b8",
   "metadata": {},
   "outputs": [],
   "source": [
    "print(de_duplicated_list)\n",
    "print(duplicate_set)"
   ]
  },
  {
   "cell_type": "code",
   "execution_count": null,
   "id": "c5e81b8d",
   "metadata": {},
   "outputs": [],
   "source": [
    "de_duplicated_list = set([1, 2, 3, 4, 5, 1.0])"
   ]
  },
  {
   "cell_type": "code",
   "execution_count": null,
   "id": "997f26a0",
   "metadata": {},
   "outputs": [],
   "source": [
    "de_duplicated_list - duplicate_set"
   ]
  },
  {
   "cell_type": "code",
   "execution_count": null,
   "id": "2f648c2e",
   "metadata": {},
   "outputs": [],
   "source": [
    "x=['banana','applr','banana','cherry']\n",
    "\n",
    "y= set(x)\n",
    "y"
   ]
  },
  {
   "cell_type": "code",
   "execution_count": null,
   "id": "ef6ef0e0",
   "metadata": {},
   "outputs": [],
   "source": [
    "de_duplicated_list"
   ]
  },
  {
   "cell_type": "code",
   "execution_count": null,
   "id": "15d91f72",
   "metadata": {},
   "outputs": [],
   "source": [
    "duplicate_set = {1, 2, 35, 'qbc', 'q'}"
   ]
  },
  {
   "cell_type": "code",
   "execution_count": null,
   "id": "01c58dbb",
   "metadata": {},
   "outputs": [],
   "source": [
    "de_duplicated_list - duplicate_set"
   ]
  },
  {
   "cell_type": "code",
   "execution_count": null,
   "id": "719afc51",
   "metadata": {},
   "outputs": [],
   "source": [
    "print(de_duplicated_list) \n",
    "print(duplicate_set) output got{1, 2, 3, 4, 5}\n",
    "{1, 2, 35, 'qbc', 'q'}de_duplicated_list - duplicate_set , output got{3, 4, 5}"
   ]
  },
  {
   "cell_type": "markdown",
   "id": "b8fe83d4",
   "metadata": {},
   "source": [
    "Properties of Set\n",
    "- **Mutable**\n",
    "- **Heterogenous**\n",
    "- **Unordered list**"
   ]
  },
  {
   "cell_type": "markdown",
   "id": "75c9d472",
   "metadata": {},
   "source": [
    "Lets move to `dict`\n",
    "\n",
    "## Dictionary\n",
    "\n",
    "It is different than Tuple, List, Set, it `stores data` in `key` `value` pairs, where as previous one only stores `value`"
   ]
  },
  {
   "cell_type": "code",
   "execution_count": null,
   "id": "89f442b2",
   "metadata": {},
   "outputs": [],
   "source": [
    "lst = [1,2,3,4]\n",
    "lst[2]"
   ]
  },
  {
   "cell_type": "code",
   "execution_count": 8,
   "id": "24d75aec",
   "metadata": {},
   "outputs": [
    {
     "data": {
      "text/plain": [
       "{'first_name': 'Himanshu', 'last_name': 'Gahlot'}"
      ]
     },
     "execution_count": 8,
     "metadata": {},
     "output_type": "execute_result"
    }
   ],
   "source": [
    "full_name"
   ]
  },
  {
   "cell_type": "code",
   "execution_count": null,
   "id": "9a25656e-305e-4ec0-821c-c964aeb3b281",
   "metadata": {},
   "outputs": [],
   "source": [
    "full_name = {'first_name' : 'Himanshu', 'last_name' : 'Gahlot'}\n",
    "full_name"
   ]
  },
  {
   "cell_type": "code",
   "execution_count": null,
   "id": "593f1bb6",
   "metadata": {},
   "outputs": [],
   "source": [
    "['Himanshu', 'Gahlot'] # list\n",
    "('Himanshu', 'Gahlot') # Tupple\n",
    "\n",
    "\n",
    "\n",
    "{'Himanshu', 'Gahlot'} # set\n",
    "{'first_name' : 'Himanshu', 'last_name' : 'Gahlot'} # Dict"
   ]
  },
  {
   "cell_type": "code",
   "execution_count": null,
   "id": "b419d76f",
   "metadata": {},
   "outputs": [],
   "source": [
    "full_name['last_name']"
   ]
  },
  {
   "cell_type": "code",
   "execution_count": null,
   "id": "69204009",
   "metadata": {},
   "outputs": [],
   "source": [
    "full_name[0]"
   ]
  },
  {
   "cell_type": "code",
   "execution_count": 5,
   "id": "0b26e0d3-cb01-4a81-93b1-a7578d2173ee",
   "metadata": {},
   "outputs": [
    {
     "data": {
      "text/plain": [
       "dict_keys(['first_name', 'last_name'])"
      ]
     },
     "execution_count": 5,
     "metadata": {},
     "output_type": "execute_result"
    }
   ],
   "source": [
    "full_name.keys()"
   ]
  },
  {
   "cell_type": "code",
   "execution_count": 6,
   "id": "08b16ce8-0366-4612-9482-e6e62ed59839",
   "metadata": {},
   "outputs": [
    {
     "data": {
      "text/plain": [
       "dict_values(['Himanshu', 'Gahlot'])"
      ]
     },
     "execution_count": 6,
     "metadata": {},
     "output_type": "execute_result"
    }
   ],
   "source": [
    "full_name.values()"
   ]
  },
  {
   "cell_type": "code",
   "execution_count": 7,
   "id": "7e538337",
   "metadata": {},
   "outputs": [
    {
     "data": {
      "text/plain": [
       "'Himanshu'"
      ]
     },
     "execution_count": 7,
     "metadata": {},
     "output_type": "execute_result"
    }
   ],
   "source": [
    "# How to access values\n",
    "full_name['first_name']"
   ]
  },
  {
   "cell_type": "code",
   "execution_count": 10,
   "id": "98482afa",
   "metadata": {},
   "outputs": [
    {
     "ename": "KeyError",
     "evalue": "0",
     "output_type": "error",
     "traceback": [
      "\u001b[1;31m---------------------------------------------------------------------------\u001b[0m",
      "\u001b[1;31mKeyError\u001b[0m                                  Traceback (most recent call last)",
      "\u001b[1;32m<ipython-input-10-e6fcd1f34ef1>\u001b[0m in \u001b[0;36m<module>\u001b[1;34m\u001b[0m\n\u001b[0;32m      1\u001b[0m \u001b[1;31m# Lets access these using index\u001b[0m\u001b[1;33m\u001b[0m\u001b[1;33m\u001b[0m\u001b[1;33m\u001b[0m\u001b[0m\n\u001b[1;32m----> 2\u001b[1;33m \u001b[0mfull_name\u001b[0m\u001b[1;33m[\u001b[0m\u001b[1;36m0\u001b[0m\u001b[1;33m]\u001b[0m\u001b[1;33m\u001b[0m\u001b[1;33m\u001b[0m\u001b[0m\n\u001b[0m",
      "\u001b[1;31mKeyError\u001b[0m: 0"
     ]
    }
   ],
   "source": [
    "# Lets access these using index\n",
    "full_name[0]"
   ]
  },
  {
   "cell_type": "code",
   "execution_count": 15,
   "id": "d52ec23b",
   "metadata": {},
   "outputs": [
    {
     "data": {
      "text/plain": [
       "'abc'"
      ]
     },
     "execution_count": 15,
     "metadata": {},
     "output_type": "execute_result"
    }
   ],
   "source": [
    "# Delete some key\n",
    "full_name.pop('last_name')"
   ]
  },
  {
   "cell_type": "code",
   "execution_count": 12,
   "id": "ef1db66f",
   "metadata": {},
   "outputs": [
    {
     "data": {
      "text/plain": [
       "{'first_name': 'Himanshu'}"
      ]
     },
     "execution_count": 12,
     "metadata": {},
     "output_type": "execute_result"
    }
   ],
   "source": [
    "# Check the value\n",
    "full_name"
   ]
  },
  {
   "cell_type": "code",
   "execution_count": 13,
   "id": "b876cadf",
   "metadata": {},
   "outputs": [],
   "source": [
    "full_name['last_name'] = \"abc\""
   ]
  },
  {
   "cell_type": "code",
   "execution_count": 16,
   "id": "19b1ed96",
   "metadata": {},
   "outputs": [
    {
     "data": {
      "text/plain": [
       "{'first_name': 'Himanshu'}"
      ]
     },
     "execution_count": 16,
     "metadata": {},
     "output_type": "execute_result"
    }
   ],
   "source": [
    "full_name"
   ]
  },
  {
   "cell_type": "markdown",
   "id": "c1e8bed3",
   "metadata": {},
   "source": [
    "You will encounter a point that you need to check some value"
   ]
  },
  {
   "cell_type": "code",
   "execution_count": 17,
   "id": "1c032311",
   "metadata": {},
   "outputs": [
    {
     "ename": "KeyError",
     "evalue": "'last_name'",
     "output_type": "error",
     "traceback": [
      "\u001b[1;31m---------------------------------------------------------------------------\u001b[0m",
      "\u001b[1;31mKeyError\u001b[0m                                  Traceback (most recent call last)",
      "\u001b[1;32m<ipython-input-17-2203bd463621>\u001b[0m in \u001b[0;36m<module>\u001b[1;34m\u001b[0m\n\u001b[0;32m      1\u001b[0m \u001b[1;31m# Lets see what happens if the value is not there, but you will still try to fetch it\u001b[0m\u001b[1;33m\u001b[0m\u001b[1;33m\u001b[0m\u001b[1;33m\u001b[0m\u001b[0m\n\u001b[1;32m----> 2\u001b[1;33m \u001b[0mfull_name\u001b[0m\u001b[1;33m[\u001b[0m\u001b[1;34m'last_name'\u001b[0m\u001b[1;33m]\u001b[0m\u001b[1;33m\u001b[0m\u001b[1;33m\u001b[0m\u001b[0m\n\u001b[0m",
      "\u001b[1;31mKeyError\u001b[0m: 'last_name'"
     ]
    }
   ],
   "source": [
    "# Lets see what happens if the value is not there, but you will still try to fetch it\n",
    "full_name['last_name']"
   ]
  },
  {
   "cell_type": "markdown",
   "id": "558783d7",
   "metadata": {},
   "source": [
    "Lets try something which will not give us error"
   ]
  },
  {
   "cell_type": "code",
   "execution_count": 21,
   "id": "ca498e74",
   "metadata": {},
   "outputs": [
    {
     "data": {
      "text/plain": [
       "{'first_name': 'Himanshu'}"
      ]
     },
     "execution_count": 21,
     "metadata": {},
     "output_type": "execute_result"
    }
   ],
   "source": [
    "full_name"
   ]
  },
  {
   "cell_type": "code",
   "execution_count": 20,
   "id": "d8f1cba4",
   "metadata": {},
   "outputs": [],
   "source": [
    "full_name.get('last_name')"
   ]
  },
  {
   "cell_type": "code",
   "execution_count": 23,
   "id": "7b33a6b7",
   "metadata": {},
   "outputs": [
    {
     "data": {
      "text/plain": [
       "'Himanshu'"
      ]
     },
     "execution_count": 23,
     "metadata": {},
     "output_type": "execute_result"
    }
   ],
   "source": [
    "full_name.get('first_name')"
   ]
  },
  {
   "cell_type": "code",
   "execution_count": 22,
   "id": "7bcca88e",
   "metadata": {},
   "outputs": [
    {
     "data": {
      "text/plain": [
       "'No key found'"
      ]
     },
     "execution_count": 22,
     "metadata": {},
     "output_type": "execute_result"
    }
   ],
   "source": [
    "full_name.get('last_name', 'No key found')"
   ]
  },
  {
   "cell_type": "code",
   "execution_count": 24,
   "id": "c407bfa1",
   "metadata": {},
   "outputs": [],
   "source": [
    "full_name[\"last_name\"] = \"Gahlot\""
   ]
  },
  {
   "cell_type": "code",
   "execution_count": 25,
   "id": "fe24dd6f",
   "metadata": {},
   "outputs": [
    {
     "data": {
      "text/plain": [
       "{'first_name': 'Himanshu', 'last_name': 'Gahlot'}"
      ]
     },
     "execution_count": 25,
     "metadata": {},
     "output_type": "execute_result"
    }
   ],
   "source": [
    "full_name"
   ]
  },
  {
   "cell_type": "markdown",
   "id": "12efbd37",
   "metadata": {},
   "source": [
    "Dictionaries are widely used, memorize its concept\n",
    "\n",
    "It can grow like a mammoth, as it is an efficient way to store structured data"
   ]
  },
  {
   "cell_type": "code",
   "execution_count": null,
   "id": "d4c6cb30",
   "metadata": {},
   "outputs": [],
   "source": [
    "# Here is an example\n",
    "abc = {\"menu\": {\n",
    "  \"id\": \"file\",\n",
    "  \"value\": \"File\",\n",
    "  \"popup\": {\n",
    "    \"menuitem\": [\n",
    "      {\"value\": \"New\", \"onclick\": \"CreateNewDoc()\"},\n",
    "      {\"value\": \"Open\", \"onclick\": \"OpenDoc()\"},\n",
    "      {\"value\": \"Close\", \"onclick\": \"CloseDoc()\"}\n",
    "    ]\n",
    "  }\n",
    "}}"
   ]
  },
  {
   "cell_type": "markdown",
   "id": "22ec27b9",
   "metadata": {},
   "source": [
    "So far whatever we have studied is about various data types\n",
    "\n",
    "Values that can be stored in these data can be of infinite combination, you can store a list of few numbers to millions. So these are extermely flexible at the same time they are pretty complex to understand.\n",
    "\n",
    "Even though so many flexibility, these are not the most used types\n",
    "\n",
    "Let me introduce the data types which you are going to use most of the time no matter how small your code.\n",
    "\n",
    "***\n",
    "\n",
    "![](./decision_flow.jpg)\n",
    "\n",
    "## Booleans\n",
    "\n",
    "They are the backbone of any decision flow, without further delaying it lets look into it"
   ]
  },
  {
   "cell_type": "markdown",
   "id": "1e677439",
   "metadata": {},
   "source": [
    "Values which these data types represent is \n",
    "`True` & `False`\n",
    "\n",
    "Though these are this simple but every coder makes mistake with these"
   ]
  },
  {
   "cell_type": "code",
   "execution_count": 26,
   "id": "d38a82bb",
   "metadata": {},
   "outputs": [],
   "source": [
    "# Lets have some variables\n",
    "positive_case = True\n",
    "negative_case = False"
   ]
  },
  {
   "cell_type": "code",
   "execution_count": 27,
   "id": "46ce57cb",
   "metadata": {},
   "outputs": [
    {
     "data": {
      "text/plain": [
       "True"
      ]
     },
     "execution_count": 27,
     "metadata": {},
     "output_type": "execute_result"
    }
   ],
   "source": [
    "# Lets see the values\n",
    "positive_case"
   ]
  },
  {
   "cell_type": "code",
   "execution_count": 28,
   "id": "9c808d4d",
   "metadata": {},
   "outputs": [
    {
     "data": {
      "text/plain": [
       "False"
      ]
     },
     "execution_count": 28,
     "metadata": {},
     "output_type": "execute_result"
    }
   ],
   "source": [
    "# Lets see the values\n",
    "negative_case"
   ]
  },
  {
   "cell_type": "markdown",
   "id": "5ef7145c",
   "metadata": {},
   "source": [
    "Thats it for boolean"
   ]
  },
  {
   "cell_type": "markdown",
   "id": "3f664229",
   "metadata": {},
   "source": [
    "So far whatever we have seen is not coding\n",
    "\n",
    "It is just understanding the way computer communicates\n",
    "\n",
    "Lets start some real programming\n",
    "\n",
    "End goal of any program is to make some decisions which solves a problem\n",
    "\n",
    "How do we evaluate it is by using boolean values"
   ]
  },
  {
   "cell_type": "markdown",
   "id": "9d9f6cab",
   "metadata": {},
   "source": [
    "|Operator|Name|Example|Result|\n",
    "|:-:|:-:|:-:|:-:|\n",
    "|**`==`**|Equal to|5 == 5|True|\n",
    "|**`!=`**|Not equal to|5 != 5|False|\n",
    "|**`>`**|Greater than|5 > 5|False|\n",
    "|**`<`**|Less than|5 < 5|False|\n",
    "|**`>=`**|Greater than equal to|5 >= 5|True|\n",
    "|**`<=`**|Less than equal to|5 <= 5|True|\n",
    "|**`in`**|in|5 in [1,2,3,4,5]|True|"
   ]
  },
  {
   "cell_type": "code",
   "execution_count": 48,
   "id": "e94c8bd8",
   "metadata": {},
   "outputs": [
    {
     "data": {
      "text/plain": [
       "True"
      ]
     },
     "execution_count": 48,
     "metadata": {},
     "output_type": "execute_result"
    }
   ],
   "source": [
    "'i' in \"Himansu9\""
   ]
  },
  {
   "cell_type": "code",
   "execution_count": 49,
   "id": "f321e24b",
   "metadata": {},
   "outputs": [
    {
     "data": {
      "text/plain": [
       "False"
      ]
     },
     "execution_count": 49,
     "metadata": {},
     "output_type": "execute_result"
    }
   ],
   "source": [
    "[5, 6] in [3,4,5,6,7]"
   ]
  },
  {
   "cell_type": "code",
   "execution_count": 58,
   "id": "3847f5b9",
   "metadata": {},
   "outputs": [
    {
     "data": {
      "text/plain": [
       "{1, 10}"
      ]
     },
     "execution_count": 58,
     "metadata": {},
     "output_type": "execute_result"
    }
   ],
   "source": [
    "set([10,1]).intersection ([1,2,4,5,10,20])"
   ]
  },
  {
   "cell_type": "code",
   "execution_count": 53,
   "id": "7e535de4",
   "metadata": {},
   "outputs": [
    {
     "data": {
      "text/plain": [
       "False"
      ]
     },
     "execution_count": 53,
     "metadata": {},
     "output_type": "execute_result"
    }
   ],
   "source": [
    "bool(set([5, 6]).intersection([3,4,7]))"
   ]
  },
  {
   "cell_type": "code",
   "execution_count": 54,
   "id": "19fdf5d1",
   "metadata": {},
   "outputs": [
    {
     "data": {
      "text/plain": [
       "set()"
      ]
     },
     "execution_count": 54,
     "metadata": {},
     "output_type": "execute_result"
    }
   ],
   "source": [
    "set([5, 6]).intersection([3,4,7])"
   ]
  },
  {
   "cell_type": "code",
   "execution_count": 79,
   "id": "68d81d2e",
   "metadata": {},
   "outputs": [
    {
     "data": {
      "text/plain": [
       "{5, 6}"
      ]
     },
     "execution_count": 79,
     "metadata": {},
     "output_type": "execute_result"
    }
   ],
   "source": [
    "set([5, 6, 3]) - set([3,4,7])"
   ]
  },
  {
   "cell_type": "code",
   "execution_count": 59,
   "id": "a8a69264",
   "metadata": {},
   "outputs": [
    {
     "data": {
      "text/plain": [
       "True"
      ]
     },
     "execution_count": 59,
     "metadata": {},
     "output_type": "execute_result"
    }
   ],
   "source": [
    "bool((set([5,6]).intersection([1,2,3,4,5,6])))"
   ]
  },
  {
   "cell_type": "code",
   "execution_count": 57,
   "id": "106450a3",
   "metadata": {},
   "outputs": [
    {
     "data": {
      "text/plain": [
       "False"
      ]
     },
     "execution_count": 57,
     "metadata": {},
     "output_type": "execute_result"
    }
   ],
   "source": [
    "bool(\"\")"
   ]
  },
  {
   "cell_type": "code",
   "execution_count": null,
   "id": "5f18323f",
   "metadata": {},
   "outputs": [],
   "source": [
    "l1 = [1,2,3,4,5,6]"
   ]
  },
  {
   "cell_type": "code",
   "execution_count": null,
   "id": "ae324c15",
   "metadata": {},
   "outputs": [],
   "source": [
    "# Try equal to\n",
    "x = 1\n",
    "x == 5"
   ]
  },
  {
   "cell_type": "code",
   "execution_count": null,
   "id": "3b2e8622",
   "metadata": {},
   "outputs": [],
   "source": [
    "# Try not equal to\n",
    "x != 5"
   ]
  },
  {
   "cell_type": "code",
   "execution_count": null,
   "id": "f0ed0a37",
   "metadata": {},
   "outputs": [],
   "source": [
    "# Try greater than\n"
   ]
  },
  {
   "cell_type": "code",
   "execution_count": null,
   "id": "358e2836",
   "metadata": {},
   "outputs": [],
   "source": [
    "# Try less than\n"
   ]
  },
  {
   "cell_type": "code",
   "execution_count": null,
   "id": "53d2144f",
   "metadata": {},
   "outputs": [],
   "source": [
    "# Try greater than equal to\n"
   ]
  },
  {
   "cell_type": "code",
   "execution_count": null,
   "id": "baff556c",
   "metadata": {},
   "outputs": [],
   "source": [
    "# Try less than equal to\n"
   ]
  },
  {
   "cell_type": "code",
   "execution_count": null,
   "id": "5063fd5e-527b-4b71-ba2f-411d25aba0d4",
   "metadata": {},
   "outputs": [],
   "source": [
    "# Try if an element is in the list or not\n"
   ]
  },
  {
   "cell_type": "code",
   "execution_count": 60,
   "id": "31aaa532-486b-4736-ae11-d3d1a7c10aaa",
   "metadata": {},
   "outputs": [
    {
     "data": {
      "text/plain": [
       "False"
      ]
     },
     "execution_count": 60,
     "metadata": {},
     "output_type": "execute_result"
    }
   ],
   "source": [
    "# Try if an element is in the tupple or not\n",
    "\"gahlot\" in (\"Himanshu\", \"Gahlot\")"
   ]
  },
  {
   "cell_type": "code",
   "execution_count": 61,
   "id": "41302ad7-6769-4ca6-80d5-7115454e56a9",
   "metadata": {},
   "outputs": [
    {
     "data": {
      "text/plain": [
       "False"
      ]
     },
     "execution_count": 61,
     "metadata": {},
     "output_type": "execute_result"
    }
   ],
   "source": [
    "# Try if an element is in the dict or not\n",
    "full_name = {'first_name':\"Himanshu\"}\n",
    "\"Himanshu\" in full_name"
   ]
  },
  {
   "cell_type": "code",
   "execution_count": 62,
   "id": "c1d4012d",
   "metadata": {},
   "outputs": [
    {
     "data": {
      "text/plain": [
       "True"
      ]
     },
     "execution_count": 62,
     "metadata": {},
     "output_type": "execute_result"
    }
   ],
   "source": [
    "# Try if an element is in the dict or not\n",
    "full_name = {'first_name':\"Himanshu\"}\n",
    "\"first_name\" in full_name"
   ]
  },
  {
   "cell_type": "code",
   "execution_count": null,
   "id": "6303005c",
   "metadata": {},
   "outputs": [],
   "source": [
    "first_name = \"Himanshu\""
   ]
  },
  {
   "cell_type": "code",
   "execution_count": null,
   "id": "a65c73ea",
   "metadata": {},
   "outputs": [],
   "source": [
    "Name = [\"Laxmi\",\"Jyothi\",\"Ashish\",\"Riyaz\",\"Tony\",\"Anu\",\"Ajit\",\"Mama\",\"Papa\"]\n",
    "'Ashish' in Name"
   ]
  },
  {
   "cell_type": "code",
   "execution_count": null,
   "id": "404df24f",
   "metadata": {},
   "outputs": [],
   "source": [
    "Dict1= {'First_name':'Thaulin','Year_birth':'1990','country_of_birth':'Rwanda'}\n",
    "'Rwanda' in Dict1.values()\n",
    "Dict1['country_of_birth']"
   ]
  },
  {
   "cell_type": "code",
   "execution_count": null,
   "id": "a03a1e26",
   "metadata": {},
   "outputs": [],
   "source": [
    "full_name={'first_name':\"Himanshu\"}\n",
    "\"su\" in first_name"
   ]
  },
  {
   "cell_type": "code",
   "execution_count": null,
   "id": "ca9a0b99",
   "metadata": {},
   "outputs": [],
   "source": [
    "first_name = \"Himanshu\""
   ]
  },
  {
   "cell_type": "code",
   "execution_count": null,
   "id": "15153264",
   "metadata": {},
   "outputs": [],
   "source": [
    "full_name = {first_name : 'Arshad', 'last_name' : 'Ayub'}\n",
    "first_name in full_name\n",
    "# \"Himanshu\" in {\"Himanshu\" : 'Arshad', 'last_name' : 'Ayub'}"
   ]
  },
  {
   "cell_type": "code",
   "execution_count": null,
   "id": "c1f9e543",
   "metadata": {},
   "outputs": [],
   "source": [
    "full_name"
   ]
  },
  {
   "cell_type": "markdown",
   "id": "b6c9c1b6",
   "metadata": {},
   "source": [
    "These are single conditions, what if we want to implement multiple conditions\n",
    "\n",
    "For ex -\n",
    "\n",
    "- When will you watch a new movie, if you are free **`and`** if you haven't watched it already\n",
    "- When will you eat out, if you are tired **`or`** if you want something new"
   ]
  },
  {
   "cell_type": "code",
   "execution_count": 88,
   "id": "69bc6d27",
   "metadata": {},
   "outputs": [
    {
     "data": {
      "text/plain": [
       "dict"
      ]
     },
     "execution_count": 88,
     "metadata": {},
     "output_type": "execute_result"
    }
   ],
   "source": [
    "type({})"
   ]
  },
  {
   "cell_type": "code",
   "execution_count": 90,
   "id": "7606f7c3",
   "metadata": {},
   "outputs": [],
   "source": [
    "abcc = set([1,23,45])"
   ]
  },
  {
   "cell_type": "code",
   "execution_count": null,
   "id": "5d49e932",
   "metadata": {},
   "outputs": [],
   "source": [
    "abcc."
   ]
  },
  {
   "cell_type": "code",
   "execution_count": 63,
   "id": "aa8af6ee",
   "metadata": {},
   "outputs": [
    {
     "data": {
      "text/plain": [
       "False"
      ]
     },
     "execution_count": 63,
     "metadata": {},
     "output_type": "execute_result"
    }
   ],
   "source": [
    "(5 < 0) & (5 > 0)\n",
    "# F & T"
   ]
  },
  {
   "cell_type": "code",
   "execution_count": null,
   "id": "3d9ee261-153a-4e51-9a02-a1c10d77a915",
   "metadata": {},
   "outputs": [],
   "source": [
    "# You can use any example where we have two conditions (5 > 0) & (5 < 0)\n",
    "(5 < 7) & (5 > 6)\n",
    "# F & T"
   ]
  },
  {
   "cell_type": "code",
   "execution_count": 64,
   "id": "97ee5b0f-b6bb-4611-a17d-6542de95f4cc",
   "metadata": {},
   "outputs": [
    {
     "data": {
      "text/plain": [
       "True"
      ]
     },
     "execution_count": 64,
     "metadata": {},
     "output_type": "execute_result"
    }
   ],
   "source": [
    "# Use same condition used above with or, see if Output changes (5 > 0) | (5 < 0)\n",
    "(5 > 0) | (5 < 0)\n",
    "# T | F"
   ]
  },
  {
   "cell_type": "code",
   "execution_count": null,
   "id": "56b302b1",
   "metadata": {},
   "outputs": [],
   "source": [
    "(5 > 6) & (5 < 7)"
   ]
  },
  {
   "cell_type": "markdown",
   "id": "b6bf3dce-76ec-4136-9da5-ab785b4ee513",
   "metadata": {},
   "source": [
    "Lets understand how each of them works\n",
    "\n",
    "|A|B|A **`&`** B|\n",
    "|:-:|:-:|:-:|\n",
    "|False|False|False|\n",
    "|False|True|False|\n",
    "|True|False|False|\n",
    "|True|True|True|\n",
    "\n",
    "\n",
    "|A|B|A **`\\|`** B|\n",
    "|:-:|:-:|:-:|\n",
    "|False|False|False|\n",
    "|False|True|True|\n",
    "|True|False|True|\n",
    "|True|True|True|"
   ]
  },
  {
   "cell_type": "code",
   "execution_count": null,
   "id": "bfb10599-3fba-4ad2-84af-8341c26c3949",
   "metadata": {},
   "outputs": [],
   "source": [
    "# Try to compare and see how it change, when it change\n"
   ]
  },
  {
   "cell_type": "markdown",
   "id": "5cca286e-bf80-45aa-a98f-f97326aab18e",
   "metadata": {},
   "source": [
    "What if you want negation of the & or |?\n",
    "\n",
    "Here comes `not` for rescue, lets see how it works\n",
    "\n",
    "# Not"
   ]
  },
  {
   "cell_type": "code",
   "execution_count": null,
   "id": "07bdb2bd",
   "metadata": {},
   "outputs": [],
   "source": [
    "not True \n",
    "not False"
   ]
  },
  {
   "cell_type": "code",
   "execution_count": 68,
   "id": "b754f72f",
   "metadata": {},
   "outputs": [
    {
     "data": {
      "text/plain": [
       "True"
      ]
     },
     "execution_count": 68,
     "metadata": {},
     "output_type": "execute_result"
    }
   ],
   "source": [
    "not False"
   ]
  },
  {
   "cell_type": "code",
   "execution_count": 69,
   "id": "dc12b459",
   "metadata": {},
   "outputs": [
    {
     "data": {
      "text/plain": [
       "False"
      ]
     },
     "execution_count": 69,
     "metadata": {},
     "output_type": "execute_result"
    }
   ],
   "source": [
    "not True "
   ]
  },
  {
   "cell_type": "code",
   "execution_count": 70,
   "id": "adf49679",
   "metadata": {},
   "outputs": [
    {
     "data": {
      "text/plain": [
       "False"
      ]
     },
     "execution_count": 70,
     "metadata": {},
     "output_type": "execute_result"
    }
   ],
   "source": [
    "(5 > 6)"
   ]
  },
  {
   "cell_type": "code",
   "execution_count": 71,
   "id": "943fb987-815f-4966-9b55-3142556c974d",
   "metadata": {},
   "outputs": [
    {
     "data": {
      "text/plain": [
       "True"
      ]
     },
     "execution_count": 71,
     "metadata": {},
     "output_type": "execute_result"
    }
   ],
   "source": [
    "# not (5 > 6)\n",
    "not (5 > 6)"
   ]
  },
  {
   "cell_type": "code",
   "execution_count": null,
   "id": "d472a6e3-d923-43da-ab36-def3cc3778d0",
   "metadata": {},
   "outputs": [],
   "source": [
    "# not ((5 > 6) | (5 < 6))\n"
   ]
  },
  {
   "cell_type": "code",
   "execution_count": null,
   "id": "0d65b17c-70da-448f-a399-3a0ed726cba4",
   "metadata": {},
   "outputs": [],
   "source": [
    "# Exercise for home \n",
    "# Play with brackets of the above and see what triggers which response\n"
   ]
  },
  {
   "cell_type": "code",
   "execution_count": null,
   "id": "4c6eade9-b443-4edb-a2e2-05c91b207dd9",
   "metadata": {},
   "outputs": [],
   "source": [
    "# Home work #\n",
    "# Generate as many as conditions as possible, Practice makes a man/woman perfect\n"
   ]
  },
  {
   "cell_type": "code",
   "execution_count": null,
   "id": "e6419593-727c-48af-bea1-2615b0cec969",
   "metadata": {},
   "outputs": [],
   "source": [
    "# Home work #\n",
    "# Generate triple conditions\n"
   ]
  },
  {
   "cell_type": "markdown",
   "id": "64dc0ff7-9147-406e-b6b4-577df2d29895",
   "metadata": {},
   "source": [
    "Lets see paly with `not` some\n",
    "\n",
    "|A|Not (A)|\n",
    "|:-:|:-:|\n",
    "|False|True|\n",
    "|True|False|\n",
    "\n",
    "\n",
    "|A|B|`Not` (A & B)|\n",
    "|:-:|:-:|:-:|\n",
    "|False|False|True|\n",
    "|False|True|True|\n",
    "|True|False|True|\n",
    "|True|True|False|\n",
    "\n",
    "\n",
    "|A|B|Not (A \\| B)|\n",
    "|:-:|:-:|:-:|\n",
    "|False|False|True|\n",
    "|False|True|False|\n",
    "|True|False|False|\n",
    "|True|True|False|"
   ]
  },
  {
   "cell_type": "markdown",
   "id": "e865affa-22bf-460e-8141-dffc48014e6a",
   "metadata": {},
   "source": [
    "***\n",
    "\n",
    "Now lets look at decision flow again\n",
    "\n",
    "![](./decision_flow.jpg)\n",
    "\n",
    "What we have learned so far are just variables, None of this allows us to influence the flow of the program\n",
    "\n",
    "Lets see what I mean by influence the flow of the program\n",
    "\n",
    "`If` your mobile number is even then print your first name <br>\n",
    "`else` your last name\n"
   ]
  },
  {
   "cell_type": "code",
   "execution_count": 74,
   "id": "e19ab599-ea04-4a2e-b7e9-087148d8534a",
   "metadata": {},
   "outputs": [
    {
     "name": "stdout",
     "output_type": "stream",
     "text": [
      "Himanshu\n",
      "Gahlot\n"
     ]
    }
   ],
   "source": [
    "print(\"Himanshu\")\n",
    "print(\"Gahlot\")"
   ]
  },
  {
   "cell_type": "markdown",
   "id": "afb1f303-46fb-44fa-ac07-48f6837fc70b",
   "metadata": {},
   "source": [
    "Are you successful?\n",
    "\n",
    "If you are then please let me know, because I don't know without knowing ***`if .. else`***\n",
    "\n",
    "***\n",
    "\n",
    "Lets talk about\n",
    "\n",
    "# ***`if .. else`***"
   ]
  },
  {
   "cell_type": "code",
   "execution_count": 75,
   "id": "51210558-df25-4a2d-ba05-aa9f6c01094d",
   "metadata": {},
   "outputs": [
    {
     "name": "stdout",
     "output_type": "stream",
     "text": [
      "This is TRUE\n",
      "End\n"
     ]
    }
   ],
   "source": [
    "# Now try to alter the flow\n",
    "if True: # any condition we can think for which the outcome is True\n",
    "    print(\"This is TRUE\")\n",
    "else:\n",
    "    print(\"This False\")\n",
    "    \n",
    "print(\"End\")"
   ]
  },
  {
   "cell_type": "markdown",
   "id": "26ed3166-63f0-4892-8eb2-3cae245aef4b",
   "metadata": {},
   "source": [
    "![](./decision_flow.jpg)"
   ]
  },
  {
   "cell_type": "code",
   "execution_count": null,
   "id": "4a98384a-f43f-429d-ae49-51b62ac8a1d1",
   "metadata": {},
   "outputs": [],
   "source": [
    "Temp = 32\n",
    "\n",
    "if Temp < 32: \n",
    "    print(\"Cover Tomatoes\")\n",
    "else:\n",
    "    print(\"Uncover Tomatoes\")"
   ]
  },
  {
   "cell_type": "markdown",
   "id": "14a14c20-4c90-4e86-9f94-62f9c2eeba6e",
   "metadata": {},
   "source": [
    "To Summarise \n",
    "\n",
    "if `True`:<br>\n",
    "    &nbsp;<button> - do this -</button><br>\n",
    "else:<br>\n",
    "    &nbsp;<button> - do this -</button><br>\n",
    "    \n",
    "This is the case when you have only one ***`if ... else`*** block is sufficient, what if it is not sufficient?\n",
    "\n",
    "Lets take above example and modify it, if temp is even less than 10 keep **`Tomatos in luke warm water`**"
   ]
  },
  {
   "cell_type": "code",
   "execution_count": 77,
   "id": "d5896a67-f1f9-465b-a52f-dc56dd49ab12",
   "metadata": {
    "scrolled": true
   },
   "outputs": [
    {
     "name": "stdout",
     "output_type": "stream",
     "text": [
      "Tomatos in luke warm water\n"
     ]
    }
   ],
   "source": [
    "Temp = 35\n",
    "\n",
    "if (Temp < 32) & (Temp >= 10): \n",
    "    print(\"Cover Tomatoes\")\n",
    "elif Temp < 10:\n",
    "    print(\"Tomatos in luke warm water\")\n",
    "else:\n",
    "    print(\"Uncover Tomatoes\")"
   ]
  },
  {
   "cell_type": "markdown",
   "id": "2ff4ede5-45ae-4358-9a40-b73f5b3d273b",
   "metadata": {},
   "source": [
    "Lets two conditions are in conjunction\n",
    "\n",
    "If Temperature is less than 32 and if Tomatoes is covered then **`do nothing`**, if uncovered then cover it, rest remains the same"
   ]
  },
  {
   "cell_type": "code",
   "execution_count": null,
   "id": "2a9a3c74-12ef-4d35-9c9c-5fd70c04d1e5",
   "metadata": {},
   "outputs": [],
   "source": [
    "Temp = 40\n",
    "status_of_tomatoes = \"covered\"\n",
    "\n",
    "if (Temp < 32) & (status_of_tomatoes != \"covered\"): \n",
    "    print(\"Cover Tomatoes\")\n",
    "elif Temp < 10:\n",
    "    print(\"Tomatos in luke warm water\")\n",
    "else:\n",
    "    print(\"Uncover Tomatoes\")\n",
    "    \n",
    "print(\"End\")"
   ]
  },
  {
   "cell_type": "markdown",
   "id": "7688da96-c9a6-4611-81be-0a4e7875dfd6",
   "metadata": {},
   "source": [
    "#### Home Work\n",
    "     1. Compare two numbers\n",
    "     2. Compare two strings\n",
    "     3. Compare two lists\n",
    "     4. Compare if string starts with **`H`**\n",
    "     5. Compare if string ends with **`H`**\n",
    "     6. An element in a list or not\n",
    "     7. An element in a tupple or not\n",
    "     8. An element in a set or not\n",
    "     9. An element in a dict or not\n",
    "     10. If a list has repeating element or not\n",
    "     11. If two list has common elements or not\n",
    "     12. Number is even number or not\n",
    "     13. Number is a prime number or not"
   ]
  },
  {
   "cell_type": "markdown",
   "id": "2f4c408b-e9c8-442c-9537-949e3292c74a",
   "metadata": {},
   "source": [
    "Lets look at another important concept ***`Loops`***\n",
    "\n",
    "***\n",
    "\n",
    "## Loop\n",
    "\n",
    "If i will ask you to print letter \n",
    "<br>***`10 times`***, you can write it and print it\n",
    "<br>***`100 times`***, you might write it and print it\n",
    "<br>***`10000 times`***, ***`Now you would say, Am I out of my mind?`***\n",
    "\n",
    "Here ***`Loops`*** comes for your escape\n",
    "\n",
    "Lets see how to do without loop first"
   ]
  },
  {
   "cell_type": "code",
   "execution_count": null,
   "id": "f71c982c-549e-48cc-9d04-e40b1ee24716",
   "metadata": {},
   "outputs": [],
   "source": [
    "number_list = [1,2,3,4,5,6,7,8,9]"
   ]
  },
  {
   "cell_type": "code",
   "execution_count": null,
   "id": "15061c64",
   "metadata": {},
   "outputs": [],
   "source": [
    "print(1)\n",
    "print(2)\n",
    "print(3)\n",
    "print(4)\n",
    "print(5)\n",
    "print(6)\n",
    "print(7)\n",
    "print(8)\n",
    "print(9)"
   ]
  },
  {
   "cell_type": "markdown",
   "id": "2856b4f3",
   "metadata": {},
   "source": [
    "Now lets see how looping can save our effort\n",
    "\n",
    "First thing first, think modular\n",
    "\n",
    "If you see above examples \n",
    "1. we know where we want to start from\n",
    "2. we know how big one step is\n",
    "3. we know where we want to stop\n",
    "\n",
    "These three things should be very clear in your mind before any loop, only then you will be able to implement any loop\n",
    "\n",
    "Once having this clarity lets now see how loops work\n",
    "\n",
    "## For\n",
    "\n",
    "Looping is a process of getting each value from any collections in an itterative manner, collection data type could be a list, tupple, dictionary or any other user defined.\n",
    "\n",
    "***`Syntax`***\n",
    "\n",
    "***for <button>each_element</button> in <button>collection_object</button>:***\n",
    "    <br>&nbsp;&nbsp;&nbsp;<button>**do this**</button>\n",
    "    \n",
    "Lets implement the above example"
   ]
  },
  {
   "cell_type": "code",
   "execution_count": null,
   "id": "86822b0a-133b-46bf-85f4-9eb428dc5094",
   "metadata": {},
   "outputs": [],
   "source": [
    "for i in [1,2,3,4,5,6,7,8,9]:\n",
    "    print(i)"
   ]
  },
  {
   "cell_type": "code",
   "execution_count": null,
   "id": "361ae02e-c055-47e5-841d-670b70894d03",
   "metadata": {},
   "outputs": [],
   "source": [
    "# Can we somehow automate the list generation?\n",
    "# Answer is yes, here we go\n",
    "\n",
    "for i in range(9):\n",
    "    print(i)"
   ]
  },
  {
   "cell_type": "markdown",
   "id": "d2c57bd8-8601-47b3-a46c-b221349665b4",
   "metadata": {},
   "source": [
    "Pay attention to start and end point"
   ]
  },
  {
   "cell_type": "code",
   "execution_count": null,
   "id": "b9e3c9d8-de4c-4934-9a47-2989c2850acc",
   "metadata": {},
   "outputs": [],
   "source": [
    "# But we need the number starting from 1 to 9\n",
    "\n",
    "for i in range(9):\n",
    "    print(i+1)"
   ]
  },
  {
   "cell_type": "markdown",
   "id": "522dd193-a153-4c81-a406-1742703e66f1",
   "metadata": {},
   "source": [
    "How range work is?\n",
    "<br>Range is a function which gives you list of number\n",
    "<br>Range accepts three parameters\n",
    "<br>***`range ( starting_number [default 0], end_number, step_size )`***"
   ]
  },
  {
   "cell_type": "markdown",
   "id": "e3b5e24c-a45b-43d9-9840-aa94233b91ce",
   "metadata": {},
   "source": [
    "Lets see modular framework in action\n",
    "1. We wanted to start from 1\n",
    "2. We wanted to step size to be 1\n",
    "3. We wanted to end at 9\n",
    "\n",
    "This is good, do you now appreciate ***`for`*** loop how simple it is\n",
    "<br>Now lets see some action now\n",
    "<br>Can we print all odd numbers between 0 to 10?\n",
    "\n",
    "***Think Modular again***\n",
    "1. We wanted to start from 1\n",
    "2. We wanted to step size to be 2\n",
    "3. We wanted to end at 10"
   ]
  },
  {
   "cell_type": "code",
   "execution_count": null,
   "id": "cb09264b-30a6-4115-b79f-6a6b092c9464",
   "metadata": {},
   "outputs": [],
   "source": [
    "for i in range(1, 10, 2):\n",
    "    print(i)"
   ]
  },
  {
   "cell_type": "code",
   "execution_count": null,
   "id": "5a4463fe-0719-484e-9ba9-97e7c1b9e420",
   "metadata": {},
   "outputs": [],
   "source": [
    "# Do you remember that we can alter the program flow as well, lets try to print numbers only if it is odd and for even nothing\n",
    "for i in range(10):\n",
    "    if i % 2 != 0:\n",
    "        print(i)"
   ]
  },
  {
   "cell_type": "markdown",
   "id": "ef1f4abf-c421-4218-8cea-4148d59220d2",
   "metadata": {},
   "source": [
    "See I have just used if part not else part\n",
    "\n",
    "Does list only works with numbers?"
   ]
  },
  {
   "cell_type": "code",
   "execution_count": null,
   "id": "300287d7-e15d-40aa-af17-23ea5bac7246",
   "metadata": {},
   "outputs": [],
   "source": [
    "for i in \"Himanshu\":\n",
    "    print(i)"
   ]
  },
  {
   "cell_type": "code",
   "execution_count": null,
   "id": "1b065f74-636f-4faa-be1f-4a6aca8a9c68",
   "metadata": {},
   "outputs": [],
   "source": [
    "for i in [\"Himanshu\", \"Gahlot\"]:\n",
    "    print(i)"
   ]
  },
  {
   "cell_type": "code",
   "execution_count": null,
   "id": "ed3a293f-8dff-4a71-ae02-aa28dcac5b99",
   "metadata": {},
   "outputs": [],
   "source": [
    "full_name = [\"Himanshu\", \"Gahlot\"]\n",
    "\n",
    "for i in range(len(full_name)):\n",
    "    print(full_name[i])"
   ]
  },
  {
   "cell_type": "markdown",
   "id": "504771c8",
   "metadata": {},
   "source": [
    "Now I hope you guys are familiar with how to use loops, lets look into deeper examples"
   ]
  },
  {
   "cell_type": "markdown",
   "id": "c9087ca9",
   "metadata": {},
   "source": [
    "Here is a very tricky question for you\n",
    "\n",
    "***`If you add anything to 0, what is the new number you get?`***"
   ]
  },
  {
   "cell_type": "code",
   "execution_count": 1,
   "id": "c4910ab2",
   "metadata": {},
   "outputs": [
    {
     "name": "stdout",
     "output_type": "stream",
     "text": [
      "(1 + 2 + 3) / 3\n",
      "Average is  2.0\n"
     ]
    }
   ],
   "source": [
    "# Lets find average of first n numbers\n",
    "n = 3\n",
    "\n",
    "sum_of_nums = 0\n",
    "all_nums = []\n",
    "\n",
    "for i in range(1, n+1, 1):\n",
    "    sum_of_nums = i + sum_of_nums\n",
    "    all_nums.append(str(i))\n",
    "#     sum_of_nums += i\n",
    "\n",
    "print(\"(\"+\" + \".join(all_nums) + f\") / {len(range(1, n+1, 1))}\")\n",
    "print(\"Average is \", sum_of_nums / len(range(1, n+1, 1)))"
   ]
  },
  {
   "cell_type": "code",
   "execution_count": 2,
   "id": "8822220a",
   "metadata": {},
   "outputs": [
    {
     "name": "stdout",
     "output_type": "stream",
     "text": [
      "(1 * 2 * 3)\n",
      "Factorial is  6\n"
     ]
    }
   ],
   "source": [
    "# Lets find factorial of first n numbers\n",
    "n = 3\n",
    "\n",
    "prod_of_nums = 1\n",
    "all_nums = []\n",
    "\n",
    "for i in range(1, n+1, 1):\n",
    "    prod_of_nums = i * prod_of_nums\n",
    "#     prod_of_nums *= i\n",
    "    all_nums.append(str(i))\n",
    "\n",
    "print(\"(\"+\" * \".join(all_nums) + f\")\")\n",
    "print(\"Factorial is \", prod_of_nums)"
   ]
  },
  {
   "cell_type": "code",
   "execution_count": 2,
   "id": "97528f04",
   "metadata": {},
   "outputs": [
    {
     "name": "stdout",
     "output_type": "stream",
     "text": [
      "*\n",
      "* *\n",
      "* * *\n",
      "* * * *\n",
      "* * * * *\n"
     ]
    }
   ],
   "source": [
    "# Lets make some pattern\n",
    "\n",
    "n = 5\n",
    "\n",
    "for i in range(1, n+1, 1):\n",
    "    print(\" \".join(['*']*i))"
   ]
  },
  {
   "cell_type": "code",
   "execution_count": null,
   "id": "e053acc3",
   "metadata": {},
   "outputs": [],
   "source": [
    "# Lets make some pattern\n",
    "\n",
    "n = 5\n",
    "\n",
    "for i in range(1, n+1, 1):\n",
    "    print(, \" \".join(['*']*i))"
   ]
  }
 ],
 "metadata": {
  "kernelspec": {
   "display_name": "Python 3",
   "language": "python",
   "name": "python3"
  },
  "language_info": {
   "codemirror_mode": {
    "name": "ipython",
    "version": 3
   },
   "file_extension": ".py",
   "mimetype": "text/x-python",
   "name": "python",
   "nbconvert_exporter": "python",
   "pygments_lexer": "ipython3",
   "version": "3.8.8"
  }
 },
 "nbformat": 4,
 "nbformat_minor": 5
}
