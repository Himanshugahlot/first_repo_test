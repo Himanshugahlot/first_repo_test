{
 "cells": [
  {
   "cell_type": "markdown",
   "id": "1ba935b2-fe71-46e1-9193-e8b041b6c16e",
   "metadata": {},
   "source": [
    "\n",
    "## Basics of Python\n",
    "\n",
    "*Author - **Himanshu Gahlot***\n",
    "\n",
    "Today's agenda\n",
    "- Understanding IDE\n",
    "- Basics about other environments\n",
    "- Syntax of Python\n",
    "- Variables, data types in Python\n",
    "- Data structures in Python"
   ]
  },
  {
   "cell_type": "code",
   "execution_count": 2,
   "id": "60e8b043-10a9-40da-829d-8686a2604969",
   "metadata": {},
   "outputs": [],
   "source": [
    "# This is coding block"
   ]
  },
  {
   "cell_type": "markdown",
   "id": "335ab000-2b42-4a36-b4f6-742e7d391d53",
   "metadata": {},
   "source": [
    "This is markdown block"
   ]
  },
  {
   "cell_type": "code",
   "execution_count": 3,
   "id": "ff3ba646-6226-4829-91a3-f048aa33bf25",
   "metadata": {},
   "outputs": [],
   "source": [
    "# Command mode"
   ]
  },
  {
   "cell_type": "code",
   "execution_count": null,
   "id": "45a56be5-32a6-4789-b005-6f3c6b55f60a",
   "metadata": {},
   "outputs": [],
   "source": []
  },
  {
   "cell_type": "markdown",
   "id": "3d1c06a1-b0ae-4812-9f2a-28def059f5dc",
   "metadata": {},
   "source": [
    "#### Lets learn Python"
   ]
  },
  {
   "cell_type": "markdown",
   "id": "aa18cf00-9ed6-41bb-a186-de52f374104e",
   "metadata": {},
   "source": [
    "*Whats this cell is?* <br>\n",
    "*Why do we need these cells*"
   ]
  },
  {
   "cell_type": "code",
   "execution_count": null,
   "id": "0c9c7234-a6af-4ae0-b555-6e9ad92802a0",
   "metadata": {},
   "outputs": [],
   "source": [
    "## Write any number in this\n"
   ]
  },
  {
   "cell_type": "markdown",
   "id": "5b75caa8-0e26-4d54-94bc-bbe61f01a4b9",
   "metadata": {},
   "source": [
    "*What if you write your name?*"
   ]
  },
  {
   "cell_type": "code",
   "execution_count": null,
   "id": "77fad829-7038-49d8-b29e-eeb4b2bb1e12",
   "metadata": {},
   "outputs": [],
   "source": [
    "## Type your name and see what it shows to you\n"
   ]
  },
  {
   "cell_type": "markdown",
   "id": "9046868d-6e4c-4252-acc2-84d728c850f0",
   "metadata": {},
   "source": [
    "*That's bad !!!!!!!!!!!!!!*"
   ]
  },
  {
   "cell_type": "code",
   "execution_count": null,
   "id": "093f88a9-9dac-42d3-8ebd-6b490555ef63",
   "metadata": {},
   "outputs": [],
   "source": [
    "## First lesson\n",
    "#    String and number\n"
   ]
  },
  {
   "cell_type": "markdown",
   "id": "8f179c60-793f-4f3a-ac85-3795556c4d92",
   "metadata": {},
   "source": [
    "**We will come this later**<br>\n",
    "*Lets see what are numbers and how we play with numbers*<br>\n",
    "_**DS is all about number games**_"
   ]
  },
  {
   "cell_type": "markdown",
   "id": "ac6f96ec-bc2c-4c1d-92ed-f70f1c9ed1e9",
   "metadata": {},
   "source": [
    "Add 2 numbers"
   ]
  },
  {
   "cell_type": "code",
   "execution_count": null,
   "id": "6ee4b8c6-d74e-4b33-b25c-ef6b347fc3f5",
   "metadata": {},
   "outputs": [],
   "source": []
  },
  {
   "cell_type": "markdown",
   "id": "e7abae91-76d8-4fbc-80e0-3e27405d3c19",
   "metadata": {},
   "source": [
    "Subtract 2 numbers"
   ]
  },
  {
   "cell_type": "code",
   "execution_count": null,
   "id": "a2421a98-1ffe-4882-bc0c-6945696c719c",
   "metadata": {},
   "outputs": [],
   "source": []
  },
  {
   "cell_type": "markdown",
   "id": "2ddd608f-5ed6-4636-9c4b-19ced44a3746",
   "metadata": {},
   "source": [
    "Multiply 2 numbers"
   ]
  },
  {
   "cell_type": "code",
   "execution_count": null,
   "id": "9f927ef5-c453-4c5d-877b-bffb6da95063",
   "metadata": {},
   "outputs": [],
   "source": []
  },
  {
   "cell_type": "markdown",
   "id": "8178fe59-48bc-41f8-84ac-46eda8baf1d1",
   "metadata": {},
   "source": [
    "Divide any 2 numbers"
   ]
  },
  {
   "cell_type": "code",
   "execution_count": null,
   "id": "47625a39-be52-45e1-9704-33d00e2e0754",
   "metadata": {},
   "outputs": [],
   "source": []
  },
  {
   "cell_type": "markdown",
   "id": "eecd87f4-44b3-4dc9-88ee-1c11ff7a6644",
   "metadata": {},
   "source": [
    "What happens if you divide with 0?"
   ]
  },
  {
   "cell_type": "code",
   "execution_count": null,
   "id": "84067ba8-2a2d-4fb8-9ef5-41e2a81f2784",
   "metadata": {},
   "outputs": [],
   "source": []
  },
  {
   "cell_type": "markdown",
   "id": "8a27f914-2ea8-4e22-96cd-6996a538220d",
   "metadata": {},
   "source": [
    "How to get the remainder?"
   ]
  },
  {
   "cell_type": "code",
   "execution_count": null,
   "id": "7de8cac9-f21f-48be-a881-5364d2cdb738",
   "metadata": {},
   "outputs": [],
   "source": []
  },
  {
   "cell_type": "markdown",
   "id": "e5ce8a54-7a7a-4923-9551-e86d95cffddd",
   "metadata": {},
   "source": [
    "Is your number an odd or even number?"
   ]
  },
  {
   "cell_type": "code",
   "execution_count": null,
   "id": "c175d16e-a3ee-4d7c-9d7e-dd789e5c9250",
   "metadata": {},
   "outputs": [],
   "source": []
  },
  {
   "cell_type": "markdown",
   "id": "585ce7b2-836b-442a-8853-9e560989c98c",
   "metadata": {},
   "source": [
    "Square of any number"
   ]
  },
  {
   "cell_type": "code",
   "execution_count": null,
   "id": "78f752a5-8e59-4958-a550-014d00c53227",
   "metadata": {},
   "outputs": [],
   "source": []
  },
  {
   "cell_type": "markdown",
   "id": "ffba813a-78c7-4380-95b2-638d4675589e",
   "metadata": {},
   "source": [
    "Raise to power of _**n**_?"
   ]
  },
  {
   "cell_type": "code",
   "execution_count": null,
   "id": "830be092-5ad4-4a01-9bc0-eb9ca53da04d",
   "metadata": {},
   "outputs": [],
   "source": []
  },
  {
   "cell_type": "markdown",
   "id": "3022543e-6ef6-417e-bb84-0f9815fbd95d",
   "metadata": {},
   "source": [
    "## Why do we need Python any simple calculator can do it?\n",
    "\n",
    "<br><br>\n",
    "Python - \"***WAIT!!!!!!!!!!!!!!!!*** I am not even started!\""
   ]
  },
  {
   "cell_type": "markdown",
   "id": "c9974b10-7123-4730-ae7f-417708a724c5",
   "metadata": {},
   "source": [
    "lets solve this <b> H<sup>2</sup> = P<sup>2</sup> + B<sup>2</sup> </b>"
   ]
  },
  {
   "cell_type": "code",
   "execution_count": null,
   "id": "0071c1d0-8b29-42d1-a68e-7d48ba7bc94e",
   "metadata": {},
   "outputs": [],
   "source": [
    "## What is your P?\n"
   ]
  },
  {
   "cell_type": "code",
   "execution_count": null,
   "id": "015cd4cf-2fae-4dab-b4d6-783b5a19f174",
   "metadata": {},
   "outputs": [],
   "source": [
    "## What is you B?\n"
   ]
  },
  {
   "cell_type": "markdown",
   "id": "9f32b57f-974a-4947-9676-e02ada65715c",
   "metadata": {},
   "source": [
    "Lets say your _p_ is your **P** and _b_ is your **b**"
   ]
  },
  {
   "cell_type": "code",
   "execution_count": null,
   "id": "6f0faac8-961c-4f7a-978a-1e8a8d6ac1ed",
   "metadata": {},
   "outputs": [],
   "source": [
    "p = \n",
    "b = "
   ]
  },
  {
   "cell_type": "markdown",
   "id": "a99439a7-4db6-409a-8fe5-66d8df489aee",
   "metadata": {},
   "source": [
    "Now see the magic here is your **H**"
   ]
  },
  {
   "cell_type": "code",
   "execution_count": null,
   "id": "41a715f3-dddf-4da6-ba42-b3fb0223e4c2",
   "metadata": {},
   "outputs": [],
   "source": [
    "H"
   ]
  },
  {
   "cell_type": "markdown",
   "id": "8e861c57-1c24-489c-936a-1908e276b0eb",
   "metadata": {},
   "source": [
    " *That's double bad !!!!!!!!!!!!!!*"
   ]
  },
  {
   "cell_type": "markdown",
   "id": "e2ba090f-a997-4ace-a67f-25c88f856f13",
   "metadata": {},
   "source": [
    "Hint: ***p*** & ***b*** is small, so should be ***h***"
   ]
  },
  {
   "cell_type": "code",
   "execution_count": null,
   "id": "1657baaf-8f7f-4260-8ba8-7f53b0d195ae",
   "metadata": {},
   "outputs": [],
   "source": [
    "h"
   ]
  },
  {
   "cell_type": "markdown",
   "id": "eea01ba7-fca9-438f-a564-fb75d082d6d7",
   "metadata": {},
   "source": [
    " *That's very bad !!!!!!!!!!!!!!*"
   ]
  },
  {
   "cell_type": "markdown",
   "id": "934ceb56-a2c0-4533-92be-ba785e3caa73",
   "metadata": {},
   "source": [
    "Computers are the dumbest thing you will encounter <br>\n",
    "***But if you master this slave there is no servant is better than this one <br>***\n",
    "AI is not still here that can read your mind :P <br>"
   ]
  },
  {
   "cell_type": "code",
   "execution_count": null,
   "id": "de4030d0-3acf-4a66-9cdf-69b212b4e82c",
   "metadata": {},
   "outputs": [],
   "source": [
    "## Explain the problem to the computer\n"
   ]
  },
  {
   "cell_type": "markdown",
   "id": "d41bcd6d-1a0a-45bc-b1a7-adb80f7946a3",
   "metadata": {},
   "source": [
    "##### Think modular\n",
    "- Break your problem first, to the smallest level"
   ]
  },
  {
   "cell_type": "markdown",
   "id": "bdf7b215-9064-4a1b-beaa-ea11acddd41f",
   "metadata": {},
   "source": [
    "Your problem is to calculate **Hypotenuse square**\n",
    "1. You need **Perpendicular length**, then you need to have **square** of it\n",
    "2. You need **Base length**, then you need to have to have **square** of it\n",
    "3. Now the **sum of the squares** of these 2 is **Hypotenuse square**"
   ]
  },
  {
   "cell_type": "markdown",
   "id": "db80e092-1a3e-4816-b2d8-ff6517f3a224",
   "metadata": {},
   "source": [
    "$$ H^2 = P^2 + B^2 $$"
   ]
  },
  {
   "cell_type": "code",
   "execution_count": null,
   "id": "f4b6fb50-4440-477a-8227-a0bc5040f69c",
   "metadata": {},
   "outputs": [],
   "source": []
  },
  {
   "cell_type": "markdown",
   "id": "c87be959-f714-4f64-983f-e9a1e512e961",
   "metadata": {},
   "source": [
    "The `p`, `b`, `h` you have used above are variable names, you can variable name is an alias you are giving to the value.\n",
    "\n",
    "Like your parents have given you an alias :P\n",
    "\n",
    "In real world someone else can have the same name as you have but in any program no 2 variables can have the same name\n",
    "\n",
    "Before we move forward lets understand what happens in the memory of the system\n",
    "\n",
    "Whenever you define any variable \n",
    "\n",
    "|`Variable names ->`|p|---|b|---|h|\n",
    "|:-:|:-:|:-:|:-:|:-:|:-:|\n",
    "|**`Variable Values - >`**|3|---|4|---|5|\n",
    "|**`Memory addresses ->`**|1203|---|978|---|22298|"
   ]
  },
  {
   "cell_type": "markdown",
   "id": "a9fde8c8-09a0-40e1-a39b-c6f700c35c97",
   "metadata": {},
   "source": [
    "## Naming Rules\n",
    "\n",
    "> _There are only two hard things in Computer Science: cache invalidation and naming things._ - Phil Karlton\n",
    "\n",
    "You can _pretty much_ name variables whatever you want. But, there are a few rules we should follow. Some are strict, some are just good manners.\n",
    "\n",
    "### Variable naming rules (mandatory)\n",
    "- Names can only consist of numbers, letters and underscores. *[A to z, 0 to 9, _]*\n",
    "- Names can't begin with numbers. *[2_numbers_sum]*\n",
    "- You can't name a variable after a built-in Python keyword (eg `if`).\n",
    "\n",
    "### Variable naming rules (good manners)\n",
    "- Names should _**always**_ be descriptive (ie, don't name variables `x` and `df`)\n",
    "- No capital letters!\n",
    "- Variables should not begin with an underscore (this means something special)\n",
    "- Multi-word variables should be in `snake_case`. All lower case separated by underscores.\n",
    "- Technically, you _can_ name variables after built-in Python _functions_ (like `print`), but it's an _extremely_ bad idea to do so.\n",
    "    - Rule of thumb: If a variable name turns green, don't use it!\n",
    "    \n",
    "### Math exercise (sorry):\n",
    "Recall the quadratic formula for solving a polynomial equation with coefficients $a$, $b$, $c$:\n",
    "\n",
    "$$ x = \\frac{-b \\pm \\sqrt{b^2 - 4ac}}{2a} $$"
   ]
  },
  {
   "cell_type": "markdown",
   "id": "afc66889-7162-42d8-85ba-fa5cac1cfbe5",
   "metadata": {},
   "source": [
    "#### Think Modular\n",
    "1. \n",
    "2.\n",
    "3.\n",
    "4."
   ]
  },
  {
   "cell_type": "code",
   "execution_count": null,
   "id": "8b6b769d-b9aa-4e81-9e51-830767b98454",
   "metadata": {},
   "outputs": [],
   "source": [
    "a = \n",
    "b = \n",
    "c = "
   ]
  },
  {
   "cell_type": "code",
   "execution_count": null,
   "id": "ccf68803-819e-436c-96ee-ae0fd721f642",
   "metadata": {},
   "outputs": [],
   "source": [
    "b_sq = "
   ]
  },
  {
   "cell_type": "code",
   "execution_count": null,
   "id": "d94072d9-ba85-4f17-afe2-5561122599f1",
   "metadata": {},
   "outputs": [],
   "source": [
    "four_times_ac = "
   ]
  },
  {
   "cell_type": "code",
   "execution_count": null,
   "id": "afb58a93-c60c-46cf-8a22-25200fea976a",
   "metadata": {},
   "outputs": [],
   "source": [
    "b_sq_sub_4_ac = "
   ]
  },
  {
   "cell_type": "code",
   "execution_count": null,
   "id": "8c4e36e3-45ef-433d-945b-9a4e31b42473",
   "metadata": {},
   "outputs": [],
   "source": [
    "sq_rt = "
   ]
  },
  {
   "cell_type": "code",
   "execution_count": null,
   "id": "7239b911-68ea-435a-915a-5d9be34673d9",
   "metadata": {},
   "outputs": [],
   "source": [
    "sum_or_sub_b_from_sqrt = "
   ]
  },
  {
   "cell_type": "code",
   "execution_count": null,
   "id": "74a5e84d-ce29-42a2-ae8e-546a6817f1dc",
   "metadata": {},
   "outputs": [],
   "source": [
    "two_times_a = "
   ]
  },
  {
   "cell_type": "code",
   "execution_count": null,
   "id": "f4ef030d-df71-4ea0-92ea-95c96b24009f",
   "metadata": {},
   "outputs": [],
   "source": [
    "x = "
   ]
  },
  {
   "cell_type": "markdown",
   "id": "7b2325ef-a5e5-4546-9926-24ec0559e753",
   "metadata": {},
   "source": [
    "***Here is your output <br>No tricks this time***"
   ]
  },
  {
   "cell_type": "code",
   "execution_count": null,
   "id": "0db478bf-8c1b-4b41-9c3b-c131b10dbe31",
   "metadata": {},
   "outputs": [],
   "source": [
    "x"
   ]
  },
  {
   "cell_type": "code",
   "execution_count": null,
   "id": "4502a78f-19e2-4325-aad4-875a879c22a3",
   "metadata": {},
   "outputs": [],
   "source": [
    "print(x)"
   ]
  },
  {
   "cell_type": "markdown",
   "id": "49325485-6132-49f2-8ff3-4ee645513c32",
   "metadata": {},
   "source": [
    "So what we just saw is <br>\n",
    "**_a_** <br>\n",
    "**_b_** <br>\n",
    "**_c_** <br>\n",
    "**_b_sq_** <br>\n",
    "**_four_times_ac_** <br>\n",
    "**_b_sq_sub_4_ac_** <br>\n",
    "**_sq_rt_** <br>\n",
    "**_sum_or_sub_b_from_sqrt_** <br>\n",
    "**_two_times_a_** <br>\n",
    "**_x_** <br>\n",
    "these all are names of variables"
   ]
  },
  {
   "cell_type": "markdown",
   "id": "0ba6f61f-1e17-4ed2-af02-aae3bb2d0d1c",
   "metadata": {},
   "source": [
    "Now write your `name` again"
   ]
  },
  {
   "cell_type": "code",
   "execution_count": null,
   "id": "8c18d219-51fd-47ca-ba86-ed8aad38b65a",
   "metadata": {},
   "outputs": [],
   "source": [
    "# Enter your first name\n"
   ]
  },
  {
   "cell_type": "markdown",
   "id": "807072a1-ae5e-46a9-9734-f2f2dd64ee45",
   "metadata": {},
   "source": [
    "Look closely at the error\n",
    "\n",
    "Do you find anything common?\n",
    "\n",
    "Like how all `variables` are being used?\n",
    "\n",
    "So whenever you type your name python thinks it is a variable but why? Do you guys know each other? After all it is in your computer :P\n",
    "\n",
    "Lets understand why?"
   ]
  },
  {
   "cell_type": "markdown",
   "id": "1a96a5f2-914f-4e73-bebf-6a5add5f38ae",
   "metadata": {},
   "source": [
    "Lets understand how it is being used in the memory\n",
    "\n",
    "Each `var` is treated differently in memory based on `data type`\n",
    "\n",
    "Sorry what `data ...`?"
   ]
  },
  {
   "cell_type": "markdown",
   "id": "cf03a296-7f8b-4877-9f9f-588c74ca4751",
   "metadata": {},
   "source": [
    "## So, what is a \"data type\"?\n",
    "When you hear the word \"data\", you probably think of a spreadsheet. Actually, **data is a synonym for information!** Anything that represents \"information\" is data. Including any and all Python variables. If I run `x = 3`, then `x` is data!\n",
    "\n",
    "Data can come in various **types.** We've already seen two types!\n",
    "\n",
    "1. The `int` type: Integers with no decimal part (eg `2`, `-30`, `14`)\n",
    "1. The `float` type: Numbers with a decimal part, even if that part is zero (eg `2.5`, `3.141`, `2**0.5`, `-3.0`)\n",
    "\n",
    "Curious about what an object's data type is? Simply use the `type()` function to ask!\n",
    "\n",
    "```python\n",
    "type(3) # int\n",
    "type(4.2) # float\n",
    "```"
   ]
  },
  {
   "cell_type": "code",
   "execution_count": null,
   "id": "e2751cb4-ad89-4741-a915-384cc87c84e6",
   "metadata": {},
   "outputs": [],
   "source": [
    "print(\"Type of a - \", type(a))\n",
    "print(\"Type of b - \", type(b))\n",
    "print(\"Type of c - \", type(c))\n",
    "print(\"Type of b_sq - \", type(b_sq))\n",
    "print(\"Type of four_times_ac - \", type(four_times_ac))\n",
    "print(\"Type of b_sq_sub_4_ac - \", type(b_sq_sub_4_ac))\n",
    "print(\"Type of sq_rt - \", type(sq_rt))\n",
    "print(\"Type of sum_or_sub_b_from_sqrt - \", type(sum_or_sub_b_from_sqrt))\n",
    "print(\"Type of two_times_a - \", type(two_times_a))\n",
    "print(\"Type of x - \", type(x))\n",
    "\n",
    "print('Type of \"Hi\" - ', type(\"Hi\"))"
   ]
  },
  {
   "cell_type": "markdown",
   "id": "bb5fe52d-2fef-4fa8-88c9-6becc2be54a3",
   "metadata": {},
   "source": [
    "Feel free to choose your example"
   ]
  },
  {
   "cell_type": "code",
   "execution_count": null,
   "id": "ef58818a-6bed-4cef-a1f7-794a0c1fa517",
   "metadata": {},
   "outputs": [],
   "source": []
  },
  {
   "cell_type": "markdown",
   "id": "eb2c09f4-f15e-43cd-8f10-cc0d7d57fbc6",
   "metadata": {},
   "source": [
    "Lets settle the battle of your `Name`\n",
    "\n",
    "## String\n",
    "\n",
    "---\n",
    "\n",
    "Type your `name` inside (`\"`) or (`'`)"
   ]
  },
  {
   "cell_type": "code",
   "execution_count": null,
   "id": "17293648-cb8f-45a8-b802-26e46b635d0c",
   "metadata": {},
   "outputs": [],
   "source": [
    "# \"Himanshu\"\n"
   ]
  },
  {
   "cell_type": "markdown",
   "id": "2db648ed-f319-44a2-9638-d067434cf486",
   "metadata": {},
   "source": [
    "I know you like it write your full name"
   ]
  },
  {
   "cell_type": "code",
   "execution_count": null,
   "id": "f6518622-5f34-4e00-9c1b-f1a66ef9f830",
   "metadata": {},
   "outputs": [],
   "source": []
  },
  {
   "cell_type": "markdown",
   "id": "9975ba55-a1ee-496b-aea4-6b5c6d48d05c",
   "metadata": {},
   "source": [
    "Lets understand how is it different from other data types"
   ]
  },
  {
   "cell_type": "code",
   "execution_count": 1,
   "id": "d09a68b0-2624-41cc-8396-4d55b7f41337",
   "metadata": {},
   "outputs": [],
   "source": [
    "# Enter any number, without quotes\n"
   ]
  },
  {
   "cell_type": "code",
   "execution_count": 2,
   "id": "535b1aa2-2103-43eb-9fdb-a019a0e04629",
   "metadata": {},
   "outputs": [],
   "source": [
    "# Enter any number, with quotes\n"
   ]
  },
  {
   "cell_type": "markdown",
   "id": "b430ff20-e741-4af3-b8d7-5485db31f435",
   "metadata": {},
   "source": [
    "Check the \n",
    "\n",
    "```python\n",
    "type(\"any string\")\n",
    "```\n",
    "\n",
    "is it still int or float?"
   ]
  },
  {
   "cell_type": "code",
   "execution_count": null,
   "id": "e59bfde0-4e2f-4868-a840-47968a0d2718",
   "metadata": {},
   "outputs": [],
   "source": []
  },
  {
   "cell_type": "markdown",
   "id": "f634e474-9bf5-4d25-8e3b-da354727c676",
   "metadata": {},
   "source": [
    "Enter your **first name** in `first line` & **last name** in `second line`\n",
    "<br>`\"First Name` <br>\n",
    "`Last Name\"`"
   ]
  },
  {
   "cell_type": "code",
   "execution_count": null,
   "id": "242a4b02-9f9b-4d3a-941e-115b6d13e371",
   "metadata": {},
   "outputs": [],
   "source": []
  },
  {
   "cell_type": "markdown",
   "id": "633e12e0-e26a-4a75-adf7-08d8a6280adf",
   "metadata": {},
   "source": [
    "_**Ahhh!!!!!!!!**_\n",
    "<br>What if you would love to write books here :P\n",
    "\n",
    "How to enter multi-lines"
   ]
  },
  {
   "cell_type": "code",
   "execution_count": null,
   "id": "a9f99d19-ccb9-466c-b67a-a30074043a7f",
   "metadata": {},
   "outputs": [],
   "source": [
    "\"\"\"\n",
    "\"\"\""
   ]
  },
  {
   "cell_type": "markdown",
   "id": "a0194156-056a-45fe-8934-182ee18493e6",
   "metadata": {},
   "source": [
    "Try with print"
   ]
  },
  {
   "cell_type": "code",
   "execution_count": 5,
   "id": "71deaec8-a349-4e7d-8b3c-e447bbad453b",
   "metadata": {},
   "outputs": [],
   "source": [
    "print(\"\"\"\n",
    "\"\"\")"
   ]
  },
  {
   "cell_type": "markdown",
   "id": "0a82df87-90e1-41ab-81bd-30463cb85a6e",
   "metadata": {},
   "source": [
    "Can you spot the difference?"
   ]
  },
  {
   "cell_type": "markdown",
   "id": "d6380b85-927a-452f-8ebf-ec20d72275db",
   "metadata": {},
   "source": [
    "Can we store in the `var` as well?\n",
    "\n",
    "Lets try it"
   ]
  },
  {
   "cell_type": "code",
   "execution_count": null,
   "id": "9b115664-b5fb-4488-9639-97254d82490c",
   "metadata": {},
   "outputs": [],
   "source": [
    "quote = \"\"\n",
    "print(quote)"
   ]
  },
  {
   "cell_type": "markdown",
   "id": "501c05e9-d101-4351-9832-8604c81873b1",
   "metadata": {},
   "source": [
    "What about multi-line?"
   ]
  },
  {
   "cell_type": "code",
   "execution_count": null,
   "id": "afd8b44b-9675-4531-89f3-d1c8caf9aa10",
   "metadata": {},
   "outputs": [],
   "source": [
    "quote = \"\"\"\n",
    "\"\"\"\n",
    "print(quote)"
   ]
  },
  {
   "cell_type": "markdown",
   "id": "33b83535-a55f-40dd-bbc8-7440c90f941c",
   "metadata": {},
   "source": [
    "You guys are `Simply Perfecto!`\n",
    "\n",
    "Lets see can you guys guess output right?\n",
    "\n",
    "`\"3\" + \"4\" = 7`? "
   ]
  },
  {
   "cell_type": "markdown",
   "id": "e94ace30-7f35-4500-81c3-7932f045f7c8",
   "metadata": {},
   "source": []
  },
  {
   "cell_type": "markdown",
   "id": "e7f751b7-b86b-44f9-a702-f9dec7fafbef",
   "metadata": {},
   "source": [
    "## Maths with a twist \n",
    "\n",
    "--- \n",
    "Maths on strings\n",
    "\n",
    "As you have seen from the above example you don't know even the addition\n",
    "\n",
    "```python\n",
    "Very Very Bad!!!\n",
    "```\n",
    "\n",
    "Lets understand the new addition"
   ]
  },
  {
   "cell_type": "code",
   "execution_count": null,
   "id": "bb482d86-9494-45fb-8fb0-32a5ba07f72d",
   "metadata": {},
   "outputs": [],
   "source": [
    "print(\"3\" + \"4\")\n",
    "print(3 + 4)"
   ]
  },
  {
   "cell_type": "markdown",
   "id": "e8ac58bd-c2e2-480d-810e-f4651b9bd16e",
   "metadata": {},
   "source": [
    "What if we mix the data types, will we get the sum?"
   ]
  },
  {
   "cell_type": "code",
   "execution_count": null,
   "id": "d185b7ad-53e8-4cd4-af6a-6bd98370401c",
   "metadata": {},
   "outputs": [],
   "source": [
    "print(3 + \"4\")"
   ]
  },
  {
   "cell_type": "markdown",
   "id": "04dad538-896d-41fa-a95c-d8c728257744",
   "metadata": {},
   "source": [
    "***Not Again!!!!***\n",
    "\n",
    "Reason?"
   ]
  },
  {
   "cell_type": "markdown",
   "id": "2205ab77-fc19-4b06-9a3c-6ff95bfca0a9",
   "metadata": {},
   "source": [
    "Define 2 `variables` based on your `First Name` & `Second Name`\n",
    "1. first_name\n",
    "2. last_name"
   ]
  },
  {
   "cell_type": "code",
   "execution_count": null,
   "id": "953a759e-0a52-4be9-b96a-f252f7e1d8d8",
   "metadata": {},
   "outputs": [],
   "source": [
    "first_name = \"\"\n",
    "last_name = \"\""
   ]
  },
  {
   "cell_type": "markdown",
   "id": "720b7ad0-07a0-47aa-a9a7-6290462982b3",
   "metadata": {},
   "source": [
    "Memory implementation\n",
    "\n",
    "|`Variable names ->`|first_name|\n",
    "|:-:|:-:|\n",
    "|**`Variable Values - >`**|\"H\", \"i\", \"m\", \"a\", \"n\", \"s\", \"h\", \"u\"|\n",
    "|**`Len of variable - >`**|8|\n",
    "|**`Memory addresses ->`**|1203, 1204, 1205, 1206, 1207, 1208, 1209, 1210, 1211|"
   ]
  },
  {
   "cell_type": "markdown",
   "id": "3042e84b-eec1-4494-a7b1-3de4854bcab5",
   "metadata": {},
   "source": [
    "Now some examples\n",
    "1. Print your `last name`, `first name`\n",
    "2. Print your `last name` first and then `first name`\n",
    "3. Save & Print `space` between `First Name and Last Name`"
   ]
  },
  {
   "cell_type": "code",
   "execution_count": null,
   "id": "ddb900d4-d168-46fd-b6f0-9d6c98ff2452",
   "metadata": {},
   "outputs": [],
   "source": []
  },
  {
   "cell_type": "code",
   "execution_count": null,
   "id": "dd65ffeb-ed81-4fb9-82a9-d2d45b5cb455",
   "metadata": {},
   "outputs": [],
   "source": []
  },
  {
   "cell_type": "code",
   "execution_count": null,
   "id": "6f6b9230-69bf-42c8-9497-eab7ca91c867",
   "metadata": {},
   "outputs": [],
   "source": []
  },
  {
   "cell_type": "markdown",
   "id": "3721ccac-c6be-4371-8d44-92d838002d99",
   "metadata": {},
   "source": [
    "## String Functions\n",
    "1. Upper\n",
    "2. Lower\n",
    "3. Replace\n",
    "4. Length\n",
    "5. Split\n",
    "\n",
    "---\n",
    "\n",
    "To use these methods we need to\n",
    "```python\n",
    "string_variable_name.method(param)\n",
    "```"
   ]
  },
  {
   "cell_type": "code",
   "execution_count": null,
   "id": "6b6dd33e-fbe9-4aa5-b17c-bca04b8cb896",
   "metadata": {},
   "outputs": [],
   "source": [
    "string_example = \"hi my Name is Anthony Gonsalves\"\n",
    "print(string_example)"
   ]
  },
  {
   "cell_type": "code",
   "execution_count": null,
   "id": "6677f218-9a48-4849-bae5-92fb183e2488",
   "metadata": {},
   "outputs": [],
   "source": [
    "print(string_example.upper())\n",
    "print(string_example)"
   ]
  },
  {
   "cell_type": "code",
   "execution_count": null,
   "id": "b1783480-d4fb-4702-8770-6a5248408c72",
   "metadata": {},
   "outputs": [],
   "source": [
    "print(string_example.lower())"
   ]
  },
  {
   "cell_type": "code",
   "execution_count": null,
   "id": "b745f865-bf19-4b0e-b544-1a7bedd8ea54",
   "metadata": {},
   "outputs": [],
   "source": [
    "print(string_example.replace(\"Name\", \"full name\"))"
   ]
  },
  {
   "cell_type": "code",
   "execution_count": null,
   "id": "dfd0b113-b15f-45d8-ba6f-3fa076bc2bf8",
   "metadata": {},
   "outputs": [],
   "source": [
    "print(len(first_name))"
   ]
  },
  {
   "cell_type": "code",
   "execution_count": null,
   "id": "de56077d-28d5-490d-b9a5-225c60c3ee2a",
   "metadata": {},
   "outputs": [],
   "source": [
    "print(string_example.split(\" \"))"
   ]
  },
  {
   "cell_type": "markdown",
   "id": "91388ea7-8352-4761-b459-d1c9f6464403",
   "metadata": {},
   "source": [
    "Last example the output is little weird, isn't it?\n",
    "\n",
    "For sure it is not the `string` and god help me if I compare it with `int` or `float`.\n",
    "\n",
    "Ok let me introduce to you, one of the most important data types in Python, `Collection`.\n",
    "\n",
    "---\n",
    "\n",
    "## Collections\n",
    "\n",
    "When ever we store multiple items in a single variable the we say it belongs to collections\n",
    "\n",
    "Example of collections - \n",
    "1. List\n",
    "2. Tuple\n",
    "3. Dict\n",
    "4. Set\n",
    "\n",
    "Lets undertand one by one"
   ]
  },
  {
   "cell_type": "markdown",
   "id": "8d213072-112e-452b-bc29-197e8408bc58",
   "metadata": {},
   "source": [
    "## List\n",
    "\n",
    "---\n",
    "\n",
    "If I ask you to store your first name and last name in the following way"
   ]
  },
  {
   "cell_type": "code",
   "execution_count": null,
   "id": "a78a8bb1-596e-4ac7-b184-895d3b9fa7bc",
   "metadata": {},
   "outputs": [],
   "source": [
    "full_name = [first_name, last_name]\n",
    "print(full_name)"
   ]
  },
  {
   "cell_type": "markdown",
   "id": "17a1ee9b-145a-40f5-8c7d-7808e5352225",
   "metadata": {},
   "source": [
    "What you need to observe is, there is a new way we are using to create a variable\n",
    "\n",
    "Earlier we used to give this\n",
    "\n",
    "```python\n",
    "varibale_name_a = variable_name_b\n",
    "```\n",
    "\n",
    "but now we are using `varibale_name_a = [variable_name_b]`\n",
    "\n",
    "These suqare brackets (`[]`) are the only new thing here, rest everything is the same\n",
    "\n",
    "Lets see if we still have the name as string or not?"
   ]
  },
  {
   "cell_type": "code",
   "execution_count": null,
   "id": "903d6442-f67e-4356-9fdd-128eea4ae390",
   "metadata": {},
   "outputs": [],
   "source": [
    "type(first_name)"
   ]
  },
  {
   "cell_type": "code",
   "execution_count": null,
   "id": "4558093d-62ea-41ff-9d9d-14edc27336d1",
   "metadata": {},
   "outputs": [],
   "source": [
    "type(last_name)"
   ]
  },
  {
   "cell_type": "markdown",
   "id": "1391e4e6-61b1-4347-9a6a-b309d95b7b08",
   "metadata": {},
   "source": [
    "`str` is the output.\n",
    "\n",
    "No surprises here, everything is the same as expected"
   ]
  },
  {
   "cell_type": "code",
   "execution_count": null,
   "id": "03e6b807-f2b9-468f-89b3-3c58910101b2",
   "metadata": {},
   "outputs": [],
   "source": [
    "type(full_name)"
   ]
  },
  {
   "cell_type": "markdown",
   "id": "84cb77f3-4816-4d74-a8ad-4d59cdefebe7",
   "metadata": {},
   "source": [
    "Here it is `list` not `str`, though `first_name` and `last_name` are `str`\n",
    "\n",
    "This is `list` because it is not storing any `str` like `first_name` or `last_name`, what it is having is `2 str` members as it constituents\n",
    "\n",
    "If we pay a close attention to how it is stored in the memory then we have better understanding about it"
   ]
  },
  {
   "cell_type": "markdown",
   "id": "ba3889d8-cd75-41df-964b-9aa16104a4fe",
   "metadata": {},
   "source": [
    "|`Variable names ->`|first_name|---|last_name|---|full_name|\n",
    "|:-:|:-:|:-:|:-:|:-:|:-:|\n",
    "|**`Variable Values - >`**|\"Himanshu\"|---|\"Gahlot\"|---|1203, 978|\n",
    "|**`Len of variable - >`**|8|---|6|---|2|\n",
    "|**`Memory addresses ->`**|1203, 1204.. +8|---|978, 979.. +6|---|22298, 22299|"
   ]
  },
  {
   "cell_type": "markdown",
   "id": "8d9fb2d7-f150-436c-8fc9-04126683b6fd",
   "metadata": {},
   "source": [
    "List and String share common way of addressing mechanism"
   ]
  },
  {
   "cell_type": "markdown",
   "id": "2a011b38-b52e-4b28-be85-731265c9b70d",
   "metadata": {},
   "source": [
    "***Remember***\n",
    "\n",
    "|`Variable names ->`|first_name|\n",
    "|:-:|:-:|\n",
    "|**`Variable Values - >`**|\"H\", \"i\", \"m\", \"a\", \"n\", \"s\", \"h\", \"u\"|\n",
    "|**`Len of variable - >`**|8|\n",
    "|**`Memory addresses ->`**|1203, 1204, 1205, 1206, 1207, 1208, 1209, 1210, 1211|"
   ]
  },
  {
   "cell_type": "code",
   "execution_count": null,
   "id": "a23b4d58-5c12-4100-8d97-a2432957815a",
   "metadata": {},
   "outputs": [],
   "source": [
    "# First charachter of your name\n",
    "first_name[0]"
   ]
  },
  {
   "cell_type": "code",
   "execution_count": null,
   "id": "a34ce4f2-6a45-4ac3-904a-a31c8d043533",
   "metadata": {},
   "outputs": [],
   "source": [
    "# First element of the list\n",
    "full_name[0]"
   ]
  },
  {
   "cell_type": "code",
   "execution_count": null,
   "id": "91db28a1-75d0-417b-8c09-b76a0a92530c",
   "metadata": {},
   "outputs": [],
   "source": [
    "# Last character of your name \n",
    "first_name[-1]"
   ]
  },
  {
   "cell_type": "code",
   "execution_count": null,
   "id": "9a1ad686-1bdd-4f6b-aa1b-dd10e3675eed",
   "metadata": {},
   "outputs": [],
   "source": [
    "# Last element in the list\n",
    "full_name[-1]"
   ]
  },
  {
   "cell_type": "code",
   "execution_count": null,
   "id": "87688091-a611-4807-94ca-1da38bf4e8cc",
   "metadata": {},
   "outputs": [],
   "source": [
    "# Last 2nd charachter of your name\n",
    "first_name[-2]"
   ]
  },
  {
   "cell_type": "code",
   "execution_count": null,
   "id": "b89d2310-9f9c-489c-af10-aa1316098eab",
   "metadata": {},
   "outputs": [],
   "source": [
    "# Last 2nd element of the list\n",
    "full_name[-2]"
   ]
  },
  {
   "cell_type": "code",
   "execution_count": null,
   "id": "9560bfc1-54d5-433e-9b26-4923f80a54eb",
   "metadata": {},
   "outputs": [],
   "source": [
    "# Except last charachter of your name\n",
    "first_name[:-1]"
   ]
  },
  {
   "cell_type": "code",
   "execution_count": null,
   "id": "8caaf767-12f1-416c-9324-7cd701adcc89",
   "metadata": {},
   "outputs": [],
   "source": [
    "# Except last element of the list\n",
    "full_name[:-1]"
   ]
  },
  {
   "cell_type": "code",
   "execution_count": null,
   "id": "f13539a9-3dd3-4b0e-94a9-5e14bd57f77b",
   "metadata": {},
   "outputs": [],
   "source": [
    "# Print your name in reverse order\n",
    "first_name[::-1]"
   ]
  },
  {
   "cell_type": "code",
   "execution_count": null,
   "id": "e14dedcc-03f9-486f-849f-848aa83628da",
   "metadata": {},
   "outputs": [],
   "source": [
    "# Print elements in reverse order\n",
    "full_name[::-1]"
   ]
  },
  {
   "cell_type": "markdown",
   "id": "ccd6482e-0922-4ef0-88da-fcbfd61ef689",
   "metadata": {},
   "source": [
    "## List Operations"
   ]
  },
  {
   "cell_type": "code",
   "execution_count": null,
   "id": "c6852bf6-36c6-478e-9ed1-c7eea1035eaa",
   "metadata": {},
   "outputs": [],
   "source": [
    "# Print your full name with space\n",
    "\" \".join(full_name)"
   ]
  },
  {
   "cell_type": "code",
   "execution_count": null,
   "id": "61e0c818-bbc9-45b5-93cf-68432ab19e90",
   "metadata": {},
   "outputs": [],
   "source": [
    "# Print your full name with a comma\n",
    "\", \".join(full_name)"
   ]
  },
  {
   "cell_type": "code",
   "execution_count": null,
   "id": "8df2f78b-1329-4b95-ab73-c9a236832061",
   "metadata": {},
   "outputs": [],
   "source": [
    "# Print your full name in reverse order with space\n",
    "\" \".join(full_name[::-1])"
   ]
  },
  {
   "cell_type": "code",
   "execution_count": null,
   "id": "7be495be-7400-4429-b127-df3c19420a6a",
   "metadata": {},
   "outputs": [],
   "source": [
    "# If you want to remove last element from the list\n",
    "full_name.pop()"
   ]
  },
  {
   "cell_type": "code",
   "execution_count": null,
   "id": "76a91ae6-7471-4185-8386-9b139667a55c",
   "metadata": {},
   "outputs": [],
   "source": [
    "# Print again list\n",
    "full_name"
   ]
  },
  {
   "cell_type": "code",
   "execution_count": null,
   "id": "4e25e964-f385-4d42-9e90-1b7f5bdfe5a0",
   "metadata": {},
   "outputs": [],
   "source": [
    "# Add again your last name\n",
    "full_name.append(last_name)"
   ]
  },
  {
   "cell_type": "code",
   "execution_count": null,
   "id": "194a1701-8c83-494b-8618-8ab85255440a",
   "metadata": {},
   "outputs": [],
   "source": [
    "# Add again your mobile number\n",
    "full_name.append(999999999)"
   ]
  },
  {
   "cell_type": "code",
   "execution_count": null,
   "id": "384630ed-9118-4692-adbf-63c778e1e8ff",
   "metadata": {},
   "outputs": [],
   "source": [
    "# Print again list\n",
    "full_name"
   ]
  },
  {
   "cell_type": "markdown",
   "id": "acc37e2a-aa4c-4865-a1cd-ea71e501aaa4",
   "metadata": {},
   "source": [
    "Properties of list\n",
    "\n",
    "**Mutable** - You can change the values in the list (as you have seen above we have `append`, `pop` as functions, it changes the list)<br>\n",
    "**Hetrogenous** - It can have different data type elements in a single list (as you have seen above we have a list of string and we added a `mobile number`)"
   ]
  },
  {
   "cell_type": "code",
   "execution_count": null,
   "id": "5dcf2d25-9907-43cc-99fa-83d0d3da0fd1",
   "metadata": {},
   "outputs": [],
   "source": []
  }
 ],
 "metadata": {
  "kernelspec": {
   "display_name": "Python 3",
   "language": "python",
   "name": "python3"
  },
  "language_info": {
   "codemirror_mode": {
    "name": "ipython",
    "version": 3
   },
   "file_extension": ".py",
   "mimetype": "text/x-python",
   "name": "python",
   "nbconvert_exporter": "python",
   "pygments_lexer": "ipython3",
   "version": "3.8.8"
  }
 },
 "nbformat": 4,
 "nbformat_minor": 5
}
